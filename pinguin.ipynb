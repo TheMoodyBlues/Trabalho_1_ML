{
 "cells": [
  {
   "cell_type": "markdown",
   "id": "02fede82",
   "metadata": {},
   "source": [
    "# Tema: Métodos baseados em árvores \n",
    "\n",
    "## Alunos: \n",
    "   \n",
    "   * Ana Zucon\n",
    "   * Gabriel Felipe\n",
    "   * Marina Schwab"
   ]
  },
  {
   "cell_type": "markdown",
   "id": "4ba37d73",
   "metadata": {},
   "source": [
    "## Objetivo\n",
    "Classificar três espécies de pinguins: Adelie, Gentoo ou Chinstrap; com base em características físicas e geográficas, disponíveis em uma base de dados encontrada no Kaggle. Escolhemos esse dataset pois é bastante simples e deixa bem evidente como os métodos funcionam."
   ]
  },
  {
   "cell_type": "markdown",
   "id": "3cdb6b2b",
   "metadata": {},
   "source": [
    "## Base de dados\n",
    "\n",
    "São 344 observações e 7 covariáveis, sendo a variável \"species\" nossa resposta.\n"
   ]
  },
  {
   "cell_type": "markdown",
   "id": "0100cf35",
   "metadata": {},
   "source": [
    "## Pacotes utilizados"
   ]
  },
  {
   "cell_type": "code",
   "execution_count": 3,
   "id": "59659416",
   "metadata": {},
   "outputs": [
    {
     "name": "stderr",
     "output_type": "stream",
     "text": [
      "C:\\Users\\briel\\anaconda3\\envs\\machine\\lib\\site-packages\\seaborn\\apionly.py:9: UserWarning: As seaborn no longer sets a default style on import, the seaborn.apionly module is deprecated. It will be removed in a future version.\n",
      "  warnings.warn(msg, UserWarning)\n"
     ]
    },
    {
     "data": {
      "text/html": [
       "        <script type=\"text/javascript\">\n",
       "        window.PlotlyConfig = {MathJaxConfig: 'local'};\n",
       "        if (window.MathJax) {MathJax.Hub.Config({SVG: {font: \"STIX-Web\"}});}\n",
       "        if (typeof require !== 'undefined') {\n",
       "        require.undef(\"plotly\");\n",
       "        requirejs.config({\n",
       "            paths: {\n",
       "                'plotly': ['https://cdn.plot.ly/plotly-2.9.0.min']\n",
       "            }\n",
       "        });\n",
       "        require(['plotly'], function(Plotly) {\n",
       "            window._Plotly = Plotly;\n",
       "        });\n",
       "        }\n",
       "        </script>\n",
       "        "
      ]
     },
     "metadata": {},
     "output_type": "display_data"
    }
   ],
   "source": [
    "import pandas as pd\n",
    "import numpy as np\n",
    "import matplotlib as mpl\n",
    "import matplotlib.pyplot as plt\n",
    "import graphviz\n",
    "import random\n",
    "import math\n",
    "\n",
    "import sklearn\n",
    "from sklearn.model_selection import train_test_split\n",
    "from sklearn import tree\n",
    "from sklearn.tree import DecisionTreeClassifier\n",
    "from sklearn.metrics import accuracy_score\n",
    "from sklearn.metrics import confusion_matrix\n",
    "from sklearn.ensemble import RandomForestClassifier\n",
    "from sklearn.model_selection import GridSearchCV\n",
    "from sklearn.ensemble import AdaBoostClassifier\n",
    "from sklearn.datasets import make_classification\n",
    "import seaborn.apionly as sns\n",
    "\n",
    "import cufflinks\n",
    "cufflinks.go_offline()\n",
    "cufflinks.set_config_file(world_readable=True, theme='pearl')"
   ]
  },
  {
   "cell_type": "markdown",
   "id": "eb4de344",
   "metadata": {},
   "source": [
    "## Análise descritiva dos dados"
   ]
  },
  {
   "cell_type": "code",
   "execution_count": 2,
   "id": "022f687a",
   "metadata": {},
   "outputs": [],
   "source": [
    "dados = pd.read_csv(\"penguins.csv\")"
   ]
  },
  {
   "cell_type": "code",
   "execution_count": 3,
   "id": "bf51ee62",
   "metadata": {},
   "outputs": [
    {
     "data": {
      "text/html": [
       "<div>\n",
       "<style scoped>\n",
       "    .dataframe tbody tr th:only-of-type {\n",
       "        vertical-align: middle;\n",
       "    }\n",
       "\n",
       "    .dataframe tbody tr th {\n",
       "        vertical-align: top;\n",
       "    }\n",
       "\n",
       "    .dataframe thead th {\n",
       "        text-align: right;\n",
       "    }\n",
       "</style>\n",
       "<table border=\"1\" class=\"dataframe\">\n",
       "  <thead>\n",
       "    <tr style=\"text-align: right;\">\n",
       "      <th></th>\n",
       "      <th>species</th>\n",
       "      <th>island</th>\n",
       "      <th>culmen_length_mm</th>\n",
       "      <th>culmen_depth_mm</th>\n",
       "      <th>flipper_length_mm</th>\n",
       "      <th>body_mass_g</th>\n",
       "      <th>sex</th>\n",
       "    </tr>\n",
       "  </thead>\n",
       "  <tbody>\n",
       "    <tr>\n",
       "      <th>0</th>\n",
       "      <td>Adelie</td>\n",
       "      <td>Torgersen</td>\n",
       "      <td>39.1</td>\n",
       "      <td>18.7</td>\n",
       "      <td>181.0</td>\n",
       "      <td>3750.0</td>\n",
       "      <td>MALE</td>\n",
       "    </tr>\n",
       "    <tr>\n",
       "      <th>1</th>\n",
       "      <td>Adelie</td>\n",
       "      <td>Torgersen</td>\n",
       "      <td>39.5</td>\n",
       "      <td>17.4</td>\n",
       "      <td>186.0</td>\n",
       "      <td>3800.0</td>\n",
       "      <td>FEMALE</td>\n",
       "    </tr>\n",
       "    <tr>\n",
       "      <th>2</th>\n",
       "      <td>Adelie</td>\n",
       "      <td>Torgersen</td>\n",
       "      <td>40.3</td>\n",
       "      <td>18.0</td>\n",
       "      <td>195.0</td>\n",
       "      <td>3250.0</td>\n",
       "      <td>FEMALE</td>\n",
       "    </tr>\n",
       "    <tr>\n",
       "      <th>3</th>\n",
       "      <td>Adelie</td>\n",
       "      <td>Torgersen</td>\n",
       "      <td>NaN</td>\n",
       "      <td>NaN</td>\n",
       "      <td>NaN</td>\n",
       "      <td>NaN</td>\n",
       "      <td>NaN</td>\n",
       "    </tr>\n",
       "    <tr>\n",
       "      <th>4</th>\n",
       "      <td>Adelie</td>\n",
       "      <td>Torgersen</td>\n",
       "      <td>36.7</td>\n",
       "      <td>19.3</td>\n",
       "      <td>193.0</td>\n",
       "      <td>3450.0</td>\n",
       "      <td>FEMALE</td>\n",
       "    </tr>\n",
       "  </tbody>\n",
       "</table>\n",
       "</div>"
      ],
      "text/plain": [
       "  species     island  culmen_length_mm  culmen_depth_mm  flipper_length_mm  \\\n",
       "0  Adelie  Torgersen              39.1             18.7              181.0   \n",
       "1  Adelie  Torgersen              39.5             17.4              186.0   \n",
       "2  Adelie  Torgersen              40.3             18.0              195.0   \n",
       "3  Adelie  Torgersen               NaN              NaN                NaN   \n",
       "4  Adelie  Torgersen              36.7             19.3              193.0   \n",
       "\n",
       "   body_mass_g     sex  \n",
       "0       3750.0    MALE  \n",
       "1       3800.0  FEMALE  \n",
       "2       3250.0  FEMALE  \n",
       "3          NaN     NaN  \n",
       "4       3450.0  FEMALE  "
      ]
     },
     "execution_count": 3,
     "metadata": {},
     "output_type": "execute_result"
    }
   ],
   "source": [
    "dados.head()"
   ]
  },
  {
   "cell_type": "markdown",
   "id": "fd81f959",
   "metadata": {},
   "source": [
    "O que são as covariáveis?"
   ]
  },
  {
   "cell_type": "markdown",
   "id": "e39534e0",
   "metadata": {},
   "source": [
    "![](image.jpg)"
   ]
  },
  {
   "cell_type": "markdown",
   "id": "046859f2",
   "metadata": {},
   "source": [
    "### Verificando se existem dados faltantes"
   ]
  },
  {
   "cell_type": "code",
   "execution_count": 4,
   "id": "581da096",
   "metadata": {},
   "outputs": [
    {
     "data": {
      "text/plain": [
       "species               0\n",
       "island                0\n",
       "culmen_length_mm      2\n",
       "culmen_depth_mm       2\n",
       "flipper_length_mm     2\n",
       "body_mass_g           2\n",
       "sex                  10\n",
       "dtype: int64"
      ]
     },
     "execution_count": 4,
     "metadata": {},
     "output_type": "execute_result"
    }
   ],
   "source": [
    "dados.isnull().sum()"
   ]
  },
  {
   "cell_type": "code",
   "execution_count": 5,
   "id": "affecf7e",
   "metadata": {},
   "outputs": [
    {
     "data": {
      "text/plain": [
       "species               0\n",
       "island                0\n",
       "culmen_length_mm      2\n",
       "culmen_depth_mm       2\n",
       "flipper_length_mm     2\n",
       "body_mass_g           2\n",
       "sex                  10\n",
       "dtype: int64"
      ]
     },
     "execution_count": 5,
     "metadata": {},
     "output_type": "execute_result"
    }
   ],
   "source": [
    "dados.isna().sum()"
   ]
  },
  {
   "cell_type": "markdown",
   "id": "e3fa9622",
   "metadata": {},
   "source": [
    "### Dimensão dos dados"
   ]
  },
  {
   "cell_type": "code",
   "execution_count": 6,
   "id": "8636a33b",
   "metadata": {},
   "outputs": [
    {
     "data": {
      "text/plain": [
       "(344, 7)"
      ]
     },
     "execution_count": 6,
     "metadata": {},
     "output_type": "execute_result"
    }
   ],
   "source": [
    "dados.shape"
   ]
  },
  {
   "cell_type": "code",
   "execution_count": 7,
   "id": "daba96b4",
   "metadata": {},
   "outputs": [
    {
     "data": {
      "text/html": [
       "<div>\n",
       "<style scoped>\n",
       "    .dataframe tbody tr th:only-of-type {\n",
       "        vertical-align: middle;\n",
       "    }\n",
       "\n",
       "    .dataframe tbody tr th {\n",
       "        vertical-align: top;\n",
       "    }\n",
       "\n",
       "    .dataframe thead th {\n",
       "        text-align: right;\n",
       "    }\n",
       "</style>\n",
       "<table border=\"1\" class=\"dataframe\">\n",
       "  <thead>\n",
       "    <tr style=\"text-align: right;\">\n",
       "      <th></th>\n",
       "      <th>culmen_length_mm</th>\n",
       "      <th>culmen_depth_mm</th>\n",
       "      <th>flipper_length_mm</th>\n",
       "      <th>body_mass_g</th>\n",
       "    </tr>\n",
       "  </thead>\n",
       "  <tbody>\n",
       "    <tr>\n",
       "      <th>count</th>\n",
       "      <td>342.000000</td>\n",
       "      <td>342.000000</td>\n",
       "      <td>342.000000</td>\n",
       "      <td>342.000000</td>\n",
       "    </tr>\n",
       "    <tr>\n",
       "      <th>mean</th>\n",
       "      <td>43.921930</td>\n",
       "      <td>17.151170</td>\n",
       "      <td>200.915205</td>\n",
       "      <td>4201.754386</td>\n",
       "    </tr>\n",
       "    <tr>\n",
       "      <th>std</th>\n",
       "      <td>5.459584</td>\n",
       "      <td>1.974793</td>\n",
       "      <td>14.061714</td>\n",
       "      <td>801.954536</td>\n",
       "    </tr>\n",
       "    <tr>\n",
       "      <th>min</th>\n",
       "      <td>32.100000</td>\n",
       "      <td>13.100000</td>\n",
       "      <td>172.000000</td>\n",
       "      <td>2700.000000</td>\n",
       "    </tr>\n",
       "    <tr>\n",
       "      <th>25%</th>\n",
       "      <td>39.225000</td>\n",
       "      <td>15.600000</td>\n",
       "      <td>190.000000</td>\n",
       "      <td>3550.000000</td>\n",
       "    </tr>\n",
       "    <tr>\n",
       "      <th>50%</th>\n",
       "      <td>44.450000</td>\n",
       "      <td>17.300000</td>\n",
       "      <td>197.000000</td>\n",
       "      <td>4050.000000</td>\n",
       "    </tr>\n",
       "    <tr>\n",
       "      <th>75%</th>\n",
       "      <td>48.500000</td>\n",
       "      <td>18.700000</td>\n",
       "      <td>213.000000</td>\n",
       "      <td>4750.000000</td>\n",
       "    </tr>\n",
       "    <tr>\n",
       "      <th>max</th>\n",
       "      <td>59.600000</td>\n",
       "      <td>21.500000</td>\n",
       "      <td>231.000000</td>\n",
       "      <td>6300.000000</td>\n",
       "    </tr>\n",
       "  </tbody>\n",
       "</table>\n",
       "</div>"
      ],
      "text/plain": [
       "       culmen_length_mm  culmen_depth_mm  flipper_length_mm  body_mass_g\n",
       "count        342.000000       342.000000         342.000000   342.000000\n",
       "mean          43.921930        17.151170         200.915205  4201.754386\n",
       "std            5.459584         1.974793          14.061714   801.954536\n",
       "min           32.100000        13.100000         172.000000  2700.000000\n",
       "25%           39.225000        15.600000         190.000000  3550.000000\n",
       "50%           44.450000        17.300000         197.000000  4050.000000\n",
       "75%           48.500000        18.700000         213.000000  4750.000000\n",
       "max           59.600000        21.500000         231.000000  6300.000000"
      ]
     },
     "execution_count": 7,
     "metadata": {},
     "output_type": "execute_result"
    }
   ],
   "source": [
    "dados.describe()"
   ]
  },
  {
   "cell_type": "markdown",
   "id": "a05962e2",
   "metadata": {},
   "source": [
    "### Correlação das covariáveis"
   ]
  },
  {
   "cell_type": "code",
   "execution_count": 8,
   "id": "219e4586",
   "metadata": {},
   "outputs": [
    {
     "data": {
      "text/html": [
       "<style type=\"text/css\">\n",
       "#T_71861_row0_col0, #T_71861_row1_col1, #T_71861_row2_col2, #T_71861_row3_col3 {\n",
       "  background-color: #b40426;\n",
       "  color: #f1f1f1;\n",
       "}\n",
       "#T_71861_row0_col1 {\n",
       "  background-color: #82a6fb;\n",
       "  color: #f1f1f1;\n",
       "}\n",
       "#T_71861_row0_col2 {\n",
       "  background-color: #f08b6e;\n",
       "  color: #f1f1f1;\n",
       "}\n",
       "#T_71861_row0_col3 {\n",
       "  background-color: #f6a385;\n",
       "  color: #000000;\n",
       "}\n",
       "#T_71861_row1_col0, #T_71861_row1_col2, #T_71861_row1_col3, #T_71861_row2_col1 {\n",
       "  background-color: #3b4cc0;\n",
       "  color: #f1f1f1;\n",
       "}\n",
       "#T_71861_row2_col0 {\n",
       "  background-color: #f6a586;\n",
       "  color: #000000;\n",
       "}\n",
       "#T_71861_row2_col3 {\n",
       "  background-color: #d24b40;\n",
       "  color: #f1f1f1;\n",
       "}\n",
       "#T_71861_row3_col0 {\n",
       "  background-color: #f7b599;\n",
       "  color: #000000;\n",
       "}\n",
       "#T_71861_row3_col1 {\n",
       "  background-color: #506bda;\n",
       "  color: #f1f1f1;\n",
       "}\n",
       "#T_71861_row3_col2 {\n",
       "  background-color: #d0473d;\n",
       "  color: #f1f1f1;\n",
       "}\n",
       "</style>\n",
       "<table id=\"T_71861\">\n",
       "  <thead>\n",
       "    <tr>\n",
       "      <th class=\"blank level0\" >&nbsp;</th>\n",
       "      <th id=\"T_71861_level0_col0\" class=\"col_heading level0 col0\" >culmen_length_mm</th>\n",
       "      <th id=\"T_71861_level0_col1\" class=\"col_heading level0 col1\" >culmen_depth_mm</th>\n",
       "      <th id=\"T_71861_level0_col2\" class=\"col_heading level0 col2\" >flipper_length_mm</th>\n",
       "      <th id=\"T_71861_level0_col3\" class=\"col_heading level0 col3\" >body_mass_g</th>\n",
       "    </tr>\n",
       "  </thead>\n",
       "  <tbody>\n",
       "    <tr>\n",
       "      <th id=\"T_71861_level0_row0\" class=\"row_heading level0 row0\" >culmen_length_mm</th>\n",
       "      <td id=\"T_71861_row0_col0\" class=\"data row0 col0\" >1.000000</td>\n",
       "      <td id=\"T_71861_row0_col1\" class=\"data row0 col1\" >-0.235053</td>\n",
       "      <td id=\"T_71861_row0_col2\" class=\"data row0 col2\" >0.656181</td>\n",
       "      <td id=\"T_71861_row0_col3\" class=\"data row0 col3\" >0.595110</td>\n",
       "    </tr>\n",
       "    <tr>\n",
       "      <th id=\"T_71861_level0_row1\" class=\"row_heading level0 row1\" >culmen_depth_mm</th>\n",
       "      <td id=\"T_71861_row1_col0\" class=\"data row1 col0\" >-0.235053</td>\n",
       "      <td id=\"T_71861_row1_col1\" class=\"data row1 col1\" >1.000000</td>\n",
       "      <td id=\"T_71861_row1_col2\" class=\"data row1 col2\" >-0.583851</td>\n",
       "      <td id=\"T_71861_row1_col3\" class=\"data row1 col3\" >-0.471916</td>\n",
       "    </tr>\n",
       "    <tr>\n",
       "      <th id=\"T_71861_level0_row2\" class=\"row_heading level0 row2\" >flipper_length_mm</th>\n",
       "      <td id=\"T_71861_row2_col0\" class=\"data row2 col0\" >0.656181</td>\n",
       "      <td id=\"T_71861_row2_col1\" class=\"data row2 col1\" >-0.583851</td>\n",
       "      <td id=\"T_71861_row2_col2\" class=\"data row2 col2\" >1.000000</td>\n",
       "      <td id=\"T_71861_row2_col3\" class=\"data row2 col3\" >0.871202</td>\n",
       "    </tr>\n",
       "    <tr>\n",
       "      <th id=\"T_71861_level0_row3\" class=\"row_heading level0 row3\" >body_mass_g</th>\n",
       "      <td id=\"T_71861_row3_col0\" class=\"data row3 col0\" >0.595110</td>\n",
       "      <td id=\"T_71861_row3_col1\" class=\"data row3 col1\" >-0.471916</td>\n",
       "      <td id=\"T_71861_row3_col2\" class=\"data row3 col2\" >0.871202</td>\n",
       "      <td id=\"T_71861_row3_col3\" class=\"data row3 col3\" >1.000000</td>\n",
       "    </tr>\n",
       "  </tbody>\n",
       "</table>\n"
      ],
      "text/plain": [
       "<pandas.io.formats.style.Styler at 0x20d530403d0>"
      ]
     },
     "execution_count": 8,
     "metadata": {},
     "output_type": "execute_result"
    }
   ],
   "source": [
    "dados.corr().style.background_gradient(cmap='coolwarm')"
   ]
  },
  {
   "cell_type": "code",
   "execution_count": 9,
   "id": "33b023e1",
   "metadata": {},
   "outputs": [
    {
     "data": {
      "image/png": "[encoded data removed]",
      "text/plain": [
       "<Figure size 792x576 with 2 Axes>"
      ]
     },
     "metadata": {
      "needs_background": "light"
     },
     "output_type": "display_data"
    }
   ],
   "source": [
    "plt.figure(figsize=(11,8))\n",
    "sns.heatmap(dados.corr(),cmap=\"YlGnBu\",annot=True)\n",
    "plt.show()"
   ]
  },
  {
   "cell_type": "markdown",
   "id": "cea5bb7b",
   "metadata": {},
   "source": [
    "Quantidade de observações para cada espécie"
   ]
  },
  {
   "cell_type": "code",
   "execution_count": 10,
   "id": "91e2cfcc",
   "metadata": {},
   "outputs": [
    {
     "data": {
      "text/plain": [
       "Adelie       152\n",
       "Gentoo       124\n",
       "Chinstrap     68\n",
       "Name: species, dtype: int64"
      ]
     },
     "execution_count": 10,
     "metadata": {},
     "output_type": "execute_result"
    }
   ],
   "source": [
    "dados['species'].value_counts()"
   ]
  },
  {
   "cell_type": "code",
   "execution_count": 11,
   "id": "43e23e45",
   "metadata": {},
   "outputs": [
    {
     "data": {
      "application/vnd.plotly.v1+json": {
       "config": {
        "linkText": "Export to plot.ly",
        "plotlyServerURL": "https://plot.ly",
        "showLink": true
       },
       "data": [
        {
         "marker": {
          "color": "rgba(55, 128, 191, 0.6)",
          "line": {
           "color": "rgba(55, 128, 191, 1.0)",
           "width": 1
          }
         },
         "name": "species",
         "orientation": "v",
         "text": "",
         "type": "bar",
         "x": [
          "Adelie",
          "Gentoo",
          "Chinstrap"
         ],
         "y": [
          152,
          124,
          68
         ]
        }
       ],
       "layout": {
        "legend": {
         "bgcolor": "#F5F6F9",
         "font": {
          "color": "#4D5663"
         }
        },
        "paper_bgcolor": "#F5F6F9",
        "plot_bgcolor": "#F5F6F9",
        "template": {
         "data": {
          "bar": [
           {
            "error_x": {
             "color": "#2a3f5f"
            },
            "error_y": {
             "color": "#2a3f5f"
            },
            "marker": {
             "line": {
              "color": "#E5ECF6",
              "width": 0.5
             },
             "pattern": {
              "fillmode": "overlay",
              "size": 10,
              "solidity": 0.2
             }
            },
            "type": "bar"
           }
          ],
          "barpolar": [
           {
            "marker": {
             "line": {
              "color": "#E5ECF6",
              "width": 0.5
             },
             "pattern": {
              "fillmode": "overlay",
              "size": 10,
              "solidity": 0.2
             }
            },
            "type": "barpolar"
           }
          ],
          "carpet": [
           {
            "aaxis": {
             "endlinecolor": "#2a3f5f",
             "gridcolor": "white",
             "linecolor": "white",
             "minorgridcolor": "white",
             "startlinecolor": "#2a3f5f"
            },
            "baxis": {
             "endlinecolor": "#2a3f5f",
             "gridcolor": "white",
             "linecolor": "white",
             "minorgridcolor": "white",
             "startlinecolor": "#2a3f5f"
            },
            "type": "carpet"
           }
          ],
          "choropleth": [
           {
            "colorbar": {
             "outlinewidth": 0,
             "ticks": ""
            },
            "type": "choropleth"
           }
          ],
          "contour": [
           {
            "colorbar": {
             "outlinewidth": 0,
             "ticks": ""
            },
            "colorscale": [
             [
              0,
              "#0d0887"
             ],
             [
              0.1111111111111111,
              "#46039f"
             ],
             [
              0.2222222222222222,
              "#7201a8"
             ],
             [
              0.3333333333333333,
              "#9c179e"
             ],
             [
              0.4444444444444444,
              "#bd3786"
             ],
             [
              0.5555555555555556,
              "#d8576b"
             ],
             [
              0.6666666666666666,
              "#ed7953"
             ],
             [
              0.7777777777777778,
              "#fb9f3a"
             ],
             [
              0.8888888888888888,
              "#fdca26"
             ],
             [
              1,
              "#f0f921"
             ]
            ],
            "type": "contour"
           }
          ],
          "contourcarpet": [
           {
            "colorbar": {
             "outlinewidth": 0,
             "ticks": ""
            },
            "type": "contourcarpet"
           }
          ],
          "heatmap": [
           {
            "colorbar": {
             "outlinewidth": 0,
             "ticks": ""
            },
            "colorscale": [
             [
              0,
              "#0d0887"
             ],
             [
              0.1111111111111111,
              "#46039f"
             ],
             [
              0.2222222222222222,
              "#7201a8"
             ],
             [
              0.3333333333333333,
              "#9c179e"
             ],
             [
              0.4444444444444444,
              "#bd3786"
             ],
             [
              0.5555555555555556,
              "#d8576b"
             ],
             [
              0.6666666666666666,
              "#ed7953"
             ],
             [
              0.7777777777777778,
              "#fb9f3a"
             ],
             [
              0.8888888888888888,
              "#fdca26"
             ],
             [
              1,
              "#f0f921"
             ]
            ],
            "type": "heatmap"
           }
          ],
          "heatmapgl": [
           {
            "colorbar": {
             "outlinewidth": 0,
             "ticks": ""
            },
            "colorscale": [
             [
              0,
              "#0d0887"
             ],
             [
              0.1111111111111111,
              "#46039f"
             ],
             [
              0.2222222222222222,
              "#7201a8"
             ],
             [
              0.3333333333333333,
              "#9c179e"
             ],
             [
              0.4444444444444444,
              "#bd3786"
             ],
             [
              0.5555555555555556,
              "#d8576b"
             ],
             [
              0.6666666666666666,
              "#ed7953"
             ],
             [
              0.7777777777777778,
              "#fb9f3a"
             ],
             [
              0.8888888888888888,
              "#fdca26"
             ],
             [
              1,
              "#f0f921"
             ]
            ],
            "type": "heatmapgl"
           }
          ],
          "histogram": [
           {
            "marker": {
             "pattern": {
              "fillmode": "overlay",
              "size": 10,
              "solidity": 0.2
             }
            },
            "type": "histogram"
           }
          ],
          "histogram2d": [
           {
            "colorbar": {
             "outlinewidth": 0,
             "ticks": ""
            },
            "colorscale": [
             [
              0,
              "#0d0887"
             ],
             [
              0.1111111111111111,
              "#46039f"
             ],
             [
              0.2222222222222222,
              "#7201a8"
             ],
             [
              0.3333333333333333,
              "#9c179e"
             ],
             [
              0.4444444444444444,
              "#bd3786"
             ],
             [
              0.5555555555555556,
              "#d8576b"
             ],
             [
              0.6666666666666666,
              "#ed7953"
             ],
             [
              0.7777777777777778,
              "#fb9f3a"
             ],
             [
              0.8888888888888888,
              "#fdca26"
             ],
             [
              1,
              "#f0f921"
             ]
            ],
            "type": "histogram2d"
           }
          ],
          "histogram2dcontour": [
           {
            "colorbar": {
             "outlinewidth": 0,
             "ticks": ""
            },
            "colorscale": [
             [
              0,
              "#0d0887"
             ],
             [
              0.1111111111111111,
              "#46039f"
             ],
             [
              0.2222222222222222,
              "#7201a8"
             ],
             [
              0.3333333333333333,
              "#9c179e"
             ],
             [
              0.4444444444444444,
              "#bd3786"
             ],
             [
              0.5555555555555556,
              "#d8576b"
             ],
             [
              0.6666666666666666,
              "#ed7953"
             ],
             [
              0.7777777777777778,
              "#fb9f3a"
             ],
             [
              0.8888888888888888,
              "#fdca26"
             ],
             [
              1,
              "#f0f921"
             ]
            ],
            "type": "histogram2dcontour"
           }
          ],
          "mesh3d": [
           {
            "colorbar": {
             "outlinewidth": 0,
             "ticks": ""
            },
            "type": "mesh3d"
           }
          ],
          "parcoords": [
           {
            "line": {
             "colorbar": {
              "outlinewidth": 0,
              "ticks": ""
             }
            },
            "type": "parcoords"
           }
          ],
          "pie": [
           {
            "automargin": true,
            "type": "pie"
           }
          ],
          "scatter": [
           {
            "marker": {
             "colorbar": {
              "outlinewidth": 0,
              "ticks": ""
             }
            },
            "type": "scatter"
           }
          ],
          "scatter3d": [
           {
            "line": {
             "colorbar": {
              "outlinewidth": 0,
              "ticks": ""
             }
            },
            "marker": {
             "colorbar": {
              "outlinewidth": 0,
              "ticks": ""
             }
            },
            "type": "scatter3d"
           }
          ],
          "scattercarpet": [
           {
            "marker": {
             "colorbar": {
              "outlinewidth": 0,
              "ticks": ""
             }
            },
            "type": "scattercarpet"
           }
          ],
          "scattergeo": [
           {
            "marker": {
             "colorbar": {
              "outlinewidth": 0,
              "ticks": ""
             }
            },
            "type": "scattergeo"
           }
          ],
          "scattergl": [
           {
            "marker": {
             "colorbar": {
              "outlinewidth": 0,
              "ticks": ""
             }
            },
            "type": "scattergl"
           }
          ],
          "scattermapbox": [
           {
            "marker": {
             "colorbar": {
              "outlinewidth": 0,
              "ticks": ""
             }
            },
            "type": "scattermapbox"
           }
          ],
          "scatterpolar": [
           {
            "marker": {
             "colorbar": {
              "outlinewidth": 0,
              "ticks": ""
             }
            },
            "type": "scatterpolar"
           }
          ],
          "scatterpolargl": [
           {
            "marker": {
             "colorbar": {
              "outlinewidth": 0,
              "ticks": ""
             }
            },
            "type": "scatterpolargl"
           }
          ],
          "scatterternary": [
           {
            "marker": {
             "colorbar": {
              "outlinewidth": 0,
              "ticks": ""
             }
            },
            "type": "scatterternary"
           }
          ],
          "surface": [
           {
            "colorbar": {
             "outlinewidth": 0,
             "ticks": ""
            },
            "colorscale": [
             [
              0,
              "#0d0887"
             ],
             [
              0.1111111111111111,
              "#46039f"
             ],
             [
              0.2222222222222222,
              "#7201a8"
             ],
             [
              0.3333333333333333,
              "#9c179e"
             ],
             [
              0.4444444444444444,
              "#bd3786"
             ],
             [
              0.5555555555555556,
              "#d8576b"
             ],
             [
              0.6666666666666666,
              "#ed7953"
             ],
             [
              0.7777777777777778,
              "#fb9f3a"
             ],
             [
              0.8888888888888888,
              "#fdca26"
             ],
             [
              1,
              "#f0f921"
             ]
            ],
            "type": "surface"
           }
          ],
          "table": [
           {
            "cells": {
             "fill": {
              "color": "#EBF0F8"
             },
             "line": {
              "color": "white"
             }
            },
            "header": {
             "fill": {
              "color": "#C8D4E3"
             },
             "line": {
              "color": "white"
             }
            },
            "type": "table"
           }
          ]
         },
         "layout": {
          "annotationdefaults": {
           "arrowcolor": "#2a3f5f",
           "arrowhead": 0,
           "arrowwidth": 1
          },
          "autotypenumbers": "strict",
          "coloraxis": {
           "colorbar": {
            "outlinewidth": 0,
            "ticks": ""
           }
          },
          "colorscale": {
           "diverging": [
            [
             0,
             "#8e0152"
            ],
            [
             0.1,
             "#c51b7d"
            ],
            [
             0.2,
             "#de77ae"
            ],
            [
             0.3,
             "#f1b6da"
            ],
            [
             0.4,
             "#fde0ef"
            ],
            [
             0.5,
             "#f7f7f7"
            ],
            [
             0.6,
             "#e6f5d0"
            ],
            [
             0.7,
             "#b8e186"
            ],
            [
             0.8,
             "#7fbc41"
            ],
            [
             0.9,
             "#4d9221"
            ],
            [
             1,
             "#276419"
            ]
           ],
           "sequential": [
            [
             0,
             "#0d0887"
            ],
            [
             0.1111111111111111,
             "#46039f"
            ],
            [
             0.2222222222222222,
             "#7201a8"
            ],
            [
             0.3333333333333333,
             "#9c179e"
            ],
            [
             0.4444444444444444,
             "#bd3786"
            ],
            [
             0.5555555555555556,
             "#d8576b"
            ],
            [
             0.6666666666666666,
             "#ed7953"
            ],
            [
             0.7777777777777778,
             "#fb9f3a"
            ],
            [
             0.8888888888888888,
             "#fdca26"
            ],
            [
             1,
             "#f0f921"
            ]
           ],
           "sequentialminus": [
            [
             0,
             "#0d0887"
            ],
            [
             0.1111111111111111,
             "#46039f"
            ],
            [
             0.2222222222222222,
             "#7201a8"
            ],
            [
             0.3333333333333333,
             "#9c179e"
            ],
            [
             0.4444444444444444,
             "#bd3786"
            ],
            [
             0.5555555555555556,
             "#d8576b"
            ],
            [
             0.6666666666666666,
             "#ed7953"
            ],
            [
             0.7777777777777778,
             "#fb9f3a"
            ],
            [
             0.8888888888888888,
             "#fdca26"
            ],
            [
             1,
             "#f0f921"
            ]
           ]
          },
          "colorway": [
           "#636efa",
           "#EF553B",
           "#00cc96",
           "#ab63fa",
           "#FFA15A",
           "#19d3f3",
           "#FF6692",
           "#B6E880",
           "#FF97FF",
           "#FECB52"
          ],
          "font": {
           "color": "#2a3f5f"
          },
          "geo": {
           "bgcolor": "white",
           "lakecolor": "white",
           "landcolor": "#E5ECF6",
           "showlakes": true,
           "showland": true,
           "subunitcolor": "white"
          },
          "hoverlabel": {
           "align": "left"
          },
          "hovermode": "closest",
          "mapbox": {
           "style": "light"
          },
          "paper_bgcolor": "white",
          "plot_bgcolor": "#E5ECF6",
          "polar": {
           "angularaxis": {
            "gridcolor": "white",
            "linecolor": "white",
            "ticks": ""
           },
           "bgcolor": "#E5ECF6",
           "radialaxis": {
            "gridcolor": "white",
            "linecolor": "white",
            "ticks": ""
           }
          },
          "scene": {
           "xaxis": {
            "backgroundcolor": "#E5ECF6",
            "gridcolor": "white",
            "gridwidth": 2,
            "linecolor": "white",
            "showbackground": true,
            "ticks": "",
            "zerolinecolor": "white"
           },
           "yaxis": {
            "backgroundcolor": "#E5ECF6",
            "gridcolor": "white",
            "gridwidth": 2,
            "linecolor": "white",
            "showbackground": true,
            "ticks": "",
            "zerolinecolor": "white"
           },
           "zaxis": {
            "backgroundcolor": "#E5ECF6",
            "gridcolor": "white",
            "gridwidth": 2,
            "linecolor": "white",
            "showbackground": true,
            "ticks": "",
            "zerolinecolor": "white"
           }
          },
          "shapedefaults": {
           "line": {
            "color": "#2a3f5f"
           }
          },
          "ternary": {
           "aaxis": {
            "gridcolor": "white",
            "linecolor": "white",
            "ticks": ""
           },
           "baxis": {
            "gridcolor": "white",
            "linecolor": "white",
            "ticks": ""
           },
           "bgcolor": "#E5ECF6",
           "caxis": {
            "gridcolor": "white",
            "linecolor": "white",
            "ticks": ""
           }
          },
          "title": {
           "x": 0.05
          },
          "xaxis": {
           "automargin": true,
           "gridcolor": "white",
           "linecolor": "white",
           "ticks": "",
           "title": {
            "standoff": 15
           },
           "zerolinecolor": "white",
           "zerolinewidth": 2
          },
          "yaxis": {
           "automargin": true,
           "gridcolor": "white",
           "linecolor": "white",
           "ticks": "",
           "title": {
            "standoff": 15
           },
           "zerolinecolor": "white",
           "zerolinewidth": 2
          }
         }
        },
        "title": {
         "font": {
          "color": "#4D5663"
         }
        },
        "xaxis": {
         "gridcolor": "#E1E5ED",
         "showgrid": true,
         "tickfont": {
          "color": "#4D5663"
         },
         "title": {
          "font": {
           "color": "#4D5663"
          },
          "text": ""
         },
         "zerolinecolor": "#E1E5ED"
        },
        "yaxis": {
         "gridcolor": "#E1E5ED",
         "showgrid": true,
         "tickfont": {
          "color": "#4D5663"
         },
         "title": {
          "font": {
           "color": "#4D5663"
          },
          "text": ""
         },
         "zerolinecolor": "#E1E5ED"
        }
       }
      },
      "text/html": [
       "<div>                            <div id=\"782a52ff-f7b5-431d-bc30-bd412d9e7702\" class=\"plotly-graph-div\" style=\"height:525px; width:100%;\"></div>            <script type=\"text/javascript\">                require([\"plotly\"], function(Plotly) {                    window.PLOTLYENV=window.PLOTLYENV || {};\n",
       "                    window.PLOTLYENV.BASE_URL='https://plot.ly';                                    if (document.getElementById(\"782a52ff-f7b5-431d-bc30-bd412d9e7702\")) {                    Plotly.newPlot(                        \"782a52ff-f7b5-431d-bc30-bd412d9e7702\",                        [{\"marker\":{\"color\":\"rgba(55, 128, 191, 0.6)\",\"line\":{\"color\":\"rgba(55, 128, 191, 1.0)\",\"width\":1}},\"name\":\"species\",\"orientation\":\"v\",\"text\":\"\",\"x\":[\"Adelie\",\"Gentoo\",\"Chinstrap\"],\"y\":[152,124,68],\"type\":\"bar\"}],                        {\"legend\":{\"bgcolor\":\"#F5F6F9\",\"font\":{\"color\":\"#4D5663\"}},\"paper_bgcolor\":\"#F5F6F9\",\"plot_bgcolor\":\"#F5F6F9\",\"template\":{\"data\":{\"barpolar\":[{\"marker\":{\"line\":{\"color\":\"#E5ECF6\",\"width\":0.5},\"pattern\":{\"fillmode\":\"overlay\",\"size\":10,\"solidity\":0.2}},\"type\":\"barpolar\"}],\"bar\":[{\"error_x\":{\"color\":\"#2a3f5f\"},\"error_y\":{\"color\":\"#2a3f5f\"},\"marker\":{\"line\":{\"color\":\"#E5ECF6\",\"width\":0.5},\"pattern\":{\"fillmode\":\"overlay\",\"size\":10,\"solidity\":0.2}},\"type\":\"bar\"}],\"carpet\":[{\"aaxis\":{\"endlinecolor\":\"#2a3f5f\",\"gridcolor\":\"white\",\"linecolor\":\"white\",\"minorgridcolor\":\"white\",\"startlinecolor\":\"#2a3f5f\"},\"baxis\":{\"endlinecolor\":\"#2a3f5f\",\"gridcolor\":\"white\",\"linecolor\":\"white\",\"minorgridcolor\":\"white\",\"startlinecolor\":\"#2a3f5f\"},\"type\":\"carpet\"}],\"choropleth\":[{\"colorbar\":{\"outlinewidth\":0,\"ticks\":\"\"},\"type\":\"choropleth\"}],\"contourcarpet\":[{\"colorbar\":{\"outlinewidth\":0,\"ticks\":\"\"},\"type\":\"contourcarpet\"}],\"contour\":[{\"colorbar\":{\"outlinewidth\":0,\"ticks\":\"\"},\"colorscale\":[[0.0,\"#0d0887\"],[0.1111111111111111,\"#46039f\"],[0.2222222222222222,\"#7201a8\"],[0.3333333333333333,\"#9c179e\"],[0.4444444444444444,\"#bd3786\"],[0.5555555555555556,\"#d8576b\"],[0.6666666666666666,\"#ed7953\"],[0.7777777777777778,\"#fb9f3a\"],[0.8888888888888888,\"#fdca26\"],[1.0,\"#f0f921\"]],\"type\":\"contour\"}],\"heatmapgl\":[{\"colorbar\":{\"outlinewidth\":0,\"ticks\":\"\"},\"colorscale\":[[0.0,\"#0d0887\"],[0.1111111111111111,\"#46039f\"],[0.2222222222222222,\"#7201a8\"],[0.3333333333333333,\"#9c179e\"],[0.4444444444444444,\"#bd3786\"],[0.5555555555555556,\"#d8576b\"],[0.6666666666666666,\"#ed7953\"],[0.7777777777777778,\"#fb9f3a\"],[0.8888888888888888,\"#fdca26\"],[1.0,\"#f0f921\"]],\"type\":\"heatmapgl\"}],\"heatmap\":[{\"colorbar\":{\"outlinewidth\":0,\"ticks\":\"\"},\"colorscale\":[[0.0,\"#0d0887\"],[0.1111111111111111,\"#46039f\"],[0.2222222222222222,\"#7201a8\"],[0.3333333333333333,\"#9c179e\"],[0.4444444444444444,\"#bd3786\"],[0.5555555555555556,\"#d8576b\"],[0.6666666666666666,\"#ed7953\"],[0.7777777777777778,\"#fb9f3a\"],[0.8888888888888888,\"#fdca26\"],[1.0,\"#f0f921\"]],\"type\":\"heatmap\"}],\"histogram2dcontour\":[{\"colorbar\":{\"outlinewidth\":0,\"ticks\":\"\"},\"colorscale\":[[0.0,\"#0d0887\"],[0.1111111111111111,\"#46039f\"],[0.2222222222222222,\"#7201a8\"],[0.3333333333333333,\"#9c179e\"],[0.4444444444444444,\"#bd3786\"],[0.5555555555555556,\"#d8576b\"],[0.6666666666666666,\"#ed7953\"],[0.7777777777777778,\"#fb9f3a\"],[0.8888888888888888,\"#fdca26\"],[1.0,\"#f0f921\"]],\"type\":\"histogram2dcontour\"}],\"histogram2d\":[{\"colorbar\":{\"outlinewidth\":0,\"ticks\":\"\"},\"colorscale\":[[0.0,\"#0d0887\"],[0.1111111111111111,\"#46039f\"],[0.2222222222222222,\"#7201a8\"],[0.3333333333333333,\"#9c179e\"],[0.4444444444444444,\"#bd3786\"],[0.5555555555555556,\"#d8576b\"],[0.6666666666666666,\"#ed7953\"],[0.7777777777777778,\"#fb9f3a\"],[0.8888888888888888,\"#fdca26\"],[1.0,\"#f0f921\"]],\"type\":\"histogram2d\"}],\"histogram\":[{\"marker\":{\"pattern\":{\"fillmode\":\"overlay\",\"size\":10,\"solidity\":0.2}},\"type\":\"histogram\"}],\"mesh3d\":[{\"colorbar\":{\"outlinewidth\":0,\"ticks\":\"\"},\"type\":\"mesh3d\"}],\"parcoords\":[{\"line\":{\"colorbar\":{\"outlinewidth\":0,\"ticks\":\"\"}},\"type\":\"parcoords\"}],\"pie\":[{\"automargin\":true,\"type\":\"pie\"}],\"scatter3d\":[{\"line\":{\"colorbar\":{\"outlinewidth\":0,\"ticks\":\"\"}},\"marker\":{\"colorbar\":{\"outlinewidth\":0,\"ticks\":\"\"}},\"type\":\"scatter3d\"}],\"scattercarpet\":[{\"marker\":{\"colorbar\":{\"outlinewidth\":0,\"ticks\":\"\"}},\"type\":\"scattercarpet\"}],\"scattergeo\":[{\"marker\":{\"colorbar\":{\"outlinewidth\":0,\"ticks\":\"\"}},\"type\":\"scattergeo\"}],\"scattergl\":[{\"marker\":{\"colorbar\":{\"outlinewidth\":0,\"ticks\":\"\"}},\"type\":\"scattergl\"}],\"scattermapbox\":[{\"marker\":{\"colorbar\":{\"outlinewidth\":0,\"ticks\":\"\"}},\"type\":\"scattermapbox\"}],\"scatterpolargl\":[{\"marker\":{\"colorbar\":{\"outlinewidth\":0,\"ticks\":\"\"}},\"type\":\"scatterpolargl\"}],\"scatterpolar\":[{\"marker\":{\"colorbar\":{\"outlinewidth\":0,\"ticks\":\"\"}},\"type\":\"scatterpolar\"}],\"scatter\":[{\"marker\":{\"colorbar\":{\"outlinewidth\":0,\"ticks\":\"\"}},\"type\":\"scatter\"}],\"scatterternary\":[{\"marker\":{\"colorbar\":{\"outlinewidth\":0,\"ticks\":\"\"}},\"type\":\"scatterternary\"}],\"surface\":[{\"colorbar\":{\"outlinewidth\":0,\"ticks\":\"\"},\"colorscale\":[[0.0,\"#0d0887\"],[0.1111111111111111,\"#46039f\"],[0.2222222222222222,\"#7201a8\"],[0.3333333333333333,\"#9c179e\"],[0.4444444444444444,\"#bd3786\"],[0.5555555555555556,\"#d8576b\"],[0.6666666666666666,\"#ed7953\"],[0.7777777777777778,\"#fb9f3a\"],[0.8888888888888888,\"#fdca26\"],[1.0,\"#f0f921\"]],\"type\":\"surface\"}],\"table\":[{\"cells\":{\"fill\":{\"color\":\"#EBF0F8\"},\"line\":{\"color\":\"white\"}},\"header\":{\"fill\":{\"color\":\"#C8D4E3\"},\"line\":{\"color\":\"white\"}},\"type\":\"table\"}]},\"layout\":{\"annotationdefaults\":{\"arrowcolor\":\"#2a3f5f\",\"arrowhead\":0,\"arrowwidth\":1},\"autotypenumbers\":\"strict\",\"coloraxis\":{\"colorbar\":{\"outlinewidth\":0,\"ticks\":\"\"}},\"colorscale\":{\"diverging\":[[0,\"#8e0152\"],[0.1,\"#c51b7d\"],[0.2,\"#de77ae\"],[0.3,\"#f1b6da\"],[0.4,\"#fde0ef\"],[0.5,\"#f7f7f7\"],[0.6,\"#e6f5d0\"],[0.7,\"#b8e186\"],[0.8,\"#7fbc41\"],[0.9,\"#4d9221\"],[1,\"#276419\"]],\"sequential\":[[0.0,\"#0d0887\"],[0.1111111111111111,\"#46039f\"],[0.2222222222222222,\"#7201a8\"],[0.3333333333333333,\"#9c179e\"],[0.4444444444444444,\"#bd3786\"],[0.5555555555555556,\"#d8576b\"],[0.6666666666666666,\"#ed7953\"],[0.7777777777777778,\"#fb9f3a\"],[0.8888888888888888,\"#fdca26\"],[1.0,\"#f0f921\"]],\"sequentialminus\":[[0.0,\"#0d0887\"],[0.1111111111111111,\"#46039f\"],[0.2222222222222222,\"#7201a8\"],[0.3333333333333333,\"#9c179e\"],[0.4444444444444444,\"#bd3786\"],[0.5555555555555556,\"#d8576b\"],[0.6666666666666666,\"#ed7953\"],[0.7777777777777778,\"#fb9f3a\"],[0.8888888888888888,\"#fdca26\"],[1.0,\"#f0f921\"]]},\"colorway\":[\"#636efa\",\"#EF553B\",\"#00cc96\",\"#ab63fa\",\"#FFA15A\",\"#19d3f3\",\"#FF6692\",\"#B6E880\",\"#FF97FF\",\"#FECB52\"],\"font\":{\"color\":\"#2a3f5f\"},\"geo\":{\"bgcolor\":\"white\",\"lakecolor\":\"white\",\"landcolor\":\"#E5ECF6\",\"showlakes\":true,\"showland\":true,\"subunitcolor\":\"white\"},\"hoverlabel\":{\"align\":\"left\"},\"hovermode\":\"closest\",\"mapbox\":{\"style\":\"light\"},\"paper_bgcolor\":\"white\",\"plot_bgcolor\":\"#E5ECF6\",\"polar\":{\"angularaxis\":{\"gridcolor\":\"white\",\"linecolor\":\"white\",\"ticks\":\"\"},\"bgcolor\":\"#E5ECF6\",\"radialaxis\":{\"gridcolor\":\"white\",\"linecolor\":\"white\",\"ticks\":\"\"}},\"scene\":{\"xaxis\":{\"backgroundcolor\":\"#E5ECF6\",\"gridcolor\":\"white\",\"gridwidth\":2,\"linecolor\":\"white\",\"showbackground\":true,\"ticks\":\"\",\"zerolinecolor\":\"white\"},\"yaxis\":{\"backgroundcolor\":\"#E5ECF6\",\"gridcolor\":\"white\",\"gridwidth\":2,\"linecolor\":\"white\",\"showbackground\":true,\"ticks\":\"\",\"zerolinecolor\":\"white\"},\"zaxis\":{\"backgroundcolor\":\"#E5ECF6\",\"gridcolor\":\"white\",\"gridwidth\":2,\"linecolor\":\"white\",\"showbackground\":true,\"ticks\":\"\",\"zerolinecolor\":\"white\"}},\"shapedefaults\":{\"line\":{\"color\":\"#2a3f5f\"}},\"ternary\":{\"aaxis\":{\"gridcolor\":\"white\",\"linecolor\":\"white\",\"ticks\":\"\"},\"baxis\":{\"gridcolor\":\"white\",\"linecolor\":\"white\",\"ticks\":\"\"},\"bgcolor\":\"#E5ECF6\",\"caxis\":{\"gridcolor\":\"white\",\"linecolor\":\"white\",\"ticks\":\"\"}},\"title\":{\"x\":0.05},\"xaxis\":{\"automargin\":true,\"gridcolor\":\"white\",\"linecolor\":\"white\",\"ticks\":\"\",\"title\":{\"standoff\":15},\"zerolinecolor\":\"white\",\"zerolinewidth\":2},\"yaxis\":{\"automargin\":true,\"gridcolor\":\"white\",\"linecolor\":\"white\",\"ticks\":\"\",\"title\":{\"standoff\":15},\"zerolinecolor\":\"white\",\"zerolinewidth\":2}}},\"title\":{\"font\":{\"color\":\"#4D5663\"}},\"xaxis\":{\"gridcolor\":\"#E1E5ED\",\"showgrid\":true,\"tickfont\":{\"color\":\"#4D5663\"},\"title\":{\"font\":{\"color\":\"#4D5663\"},\"text\":\"\"},\"zerolinecolor\":\"#E1E5ED\"},\"yaxis\":{\"gridcolor\":\"#E1E5ED\",\"showgrid\":true,\"tickfont\":{\"color\":\"#4D5663\"},\"title\":{\"font\":{\"color\":\"#4D5663\"},\"text\":\"\"},\"zerolinecolor\":\"#E1E5ED\"}},                        {\"showLink\": true, \"linkText\": \"Export to plot.ly\", \"plotlyServerURL\": \"https://plot.ly\", \"responsive\": true}                    ).then(function(){\n",
       "                            \n",
       "var gd = document.getElementById('782a52ff-f7b5-431d-bc30-bd412d9e7702');\n",
       "var x = new MutationObserver(function (mutations, observer) {{\n",
       "        var display = window.getComputedStyle(gd).display;\n",
       "        if (!display || display === 'none') {{\n",
       "            console.log([gd, 'removed!']);\n",
       "            Plotly.purge(gd);\n",
       "            observer.disconnect();\n",
       "        }}\n",
       "}});\n",
       "\n",
       "// Listen for the removal of the full notebook cells\n",
       "var notebookContainer = gd.closest('#notebook-container');\n",
       "if (notebookContainer) {{\n",
       "    x.observe(notebookContainer, {childList: true});\n",
       "}}\n",
       "\n",
       "// Listen for the clearing of the current output cell\n",
       "var outputEl = gd.closest('.output');\n",
       "if (outputEl) {{\n",
       "    x.observe(outputEl, {childList: true});\n",
       "}}\n",
       "\n",
       "                        })                };                });            </script>        </div>"
      ]
     },
     "metadata": {},
     "output_type": "display_data"
    }
   ],
   "source": [
    "dados['species'].value_counts().iplot(kind='bar', colors='blue')"
   ]
  },
  {
   "cell_type": "code",
   "execution_count": 12,
   "id": "6528e41e",
   "metadata": {},
   "outputs": [
    {
     "data": {
      "text/plain": [
       "<seaborn.axisgrid.PairGrid at 0x20d39a76b50>"
      ]
     },
     "execution_count": 12,
     "metadata": {},
     "output_type": "execute_result"
    },
    {
     "data": {
      "image/png": "[encoded data removed]",
      "text/plain": [
       "<Figure size 948.125x864 with 20 Axes>"
      ]
     },
     "metadata": {
      "needs_background": "light"
     },
     "output_type": "display_data"
    }
   ],
   "source": [
    "sns.pairplot(dados, hue=\"species\", height=3,markers=[\"o\", \"s\", \"D\"])"
   ]
  },
  {
   "cell_type": "markdown",
   "id": "78af1726",
   "metadata": {},
   "source": [
    "## Duas abordagens manuais usando árvores de decisão"
   ]
  },
  {
   "cell_type": "markdown",
   "id": "91ce37b3",
   "metadata": {},
   "source": [
    "### 1ª abordagem"
   ]
  },
  {
   "cell_type": "code",
   "execution_count": 13,
   "id": "e5aa95a0",
   "metadata": {},
   "outputs": [
    {
     "data": {
      "text/plain": [
       "<seaborn.axisgrid.FacetGrid at 0x20d5a6a45e0>"
      ]
     },
     "execution_count": 13,
     "metadata": {},
     "output_type": "execute_result"
    },
    {
     "data": {
      "image/png": "[encoded data removed]",
      "text/plain": [
       "<Figure size 660.125x576 with 1 Axes>"
      ]
     },
     "metadata": {
      "needs_background": "light"
     },
     "output_type": "display_data"
    }
   ],
   "source": [
    "sns.FacetGrid(dados, hue=\"species\", height=8) \\\n",
    "   .map(plt.scatter, \"culmen_length_mm\", \"body_mass_g\") \\\n",
    "   .add_legend()"
   ]
  },
  {
   "cell_type": "markdown",
   "id": "42661675",
   "metadata": {},
   "source": [
    "### 2ª abordagem"
   ]
  },
  {
   "cell_type": "code",
   "execution_count": 14,
   "id": "ba187db2",
   "metadata": {},
   "outputs": [
    {
     "data": {
      "text/plain": [
       "<seaborn.axisgrid.FacetGrid at 0x20d5a554cd0>"
      ]
     },
     "execution_count": 14,
     "metadata": {},
     "output_type": "execute_result"
    },
    {
     "data": {
      "image/png": "[encoded data removed]",
      "text/plain": [
       "<Figure size 660.125x576 with 1 Axes>"
      ]
     },
     "metadata": {
      "needs_background": "light"
     },
     "output_type": "display_data"
    }
   ],
   "source": [
    "sns.FacetGrid(dados, hue=\"species\", height=8) \\\n",
    "   .map(plt.scatter, \"culmen_length_mm\", \"flipper_length_mm\") \\\n",
    "   .add_legend()"
   ]
  },
  {
   "cell_type": "markdown",
   "id": "55747649",
   "metadata": {},
   "source": [
    "### Implementação 1"
   ]
  },
  {
   "cell_type": "code",
   "execution_count": 15,
   "id": "096ce6d9",
   "metadata": {},
   "outputs": [],
   "source": [
    "def arvore_um(dados):\n",
    "    y_hat = [\"null\"]*len(dados['species'])\n",
    "    for i in range(len(dados['species'])):\n",
    "        if dados['body_mass_g'][i] > 4250:\n",
    "            y_hat[i] = 'Gentoo'\n",
    "        else:\n",
    "            if dados['culmen_length_mm'][i] < 45:\n",
    "                y_hat[i] = 'Adelie'\n",
    "            else:\n",
    "                y_hat[i] = 'Chinstrap'\n",
    "    return y_hat"
   ]
  },
  {
   "cell_type": "code",
   "execution_count": 16,
   "id": "dcb12ce3",
   "metadata": {},
   "outputs": [],
   "source": [
    "y_hat1 = arvore_um(dados)"
   ]
  },
  {
   "cell_type": "code",
   "execution_count": 17,
   "id": "963d0e09",
   "metadata": {},
   "outputs": [
    {
     "data": {
      "text/plain": [
       "['Adelie',\n",
       " 'Adelie',\n",
       " 'Adelie',\n",
       " 'Chinstrap',\n",
       " 'Adelie',\n",
       " 'Adelie',\n",
       " 'Adelie',\n",
       " 'Gentoo',\n",
       " 'Adelie']"
      ]
     },
     "execution_count": 17,
     "metadata": {},
     "output_type": "execute_result"
    }
   ],
   "source": [
    "y_hat1[0:9]"
   ]
  },
  {
   "cell_type": "markdown",
   "id": "76ec5ecb",
   "metadata": {},
   "source": [
    "### Matriz de confusão para a primeira abordagem e acurácia"
   ]
  },
  {
   "cell_type": "code",
   "execution_count": 18,
   "id": "ac31b540",
   "metadata": {},
   "outputs": [
    {
     "data": {
      "text/plain": [
       "array([[129,   3,  20],\n",
       "       [  6,  55,   7],\n",
       "       [  3,   4, 117]], dtype=int64)"
      ]
     },
     "execution_count": 18,
     "metadata": {},
     "output_type": "execute_result"
    }
   ],
   "source": [
    "confusion_matrix(dados['species'], y_hat1)"
   ]
  },
  {
   "cell_type": "code",
   "execution_count": 19,
   "id": "6faa8c1d",
   "metadata": {},
   "outputs": [
    {
     "name": "stdout",
     "output_type": "stream",
     "text": [
      "A acurácia para a primeira abordgem foi de : 0.8750\n"
     ]
    }
   ],
   "source": [
    "print('A acurácia para a primeira abordgem foi de : {0:0.4f}'. format(accuracy_score(dados['species'], y_hat1)))"
   ]
  },
  {
   "cell_type": "markdown",
   "id": "fe0b8104",
   "metadata": {},
   "source": [
    "### Implementação 2"
   ]
  },
  {
   "cell_type": "code",
   "execution_count": 20,
   "id": "366430d2",
   "metadata": {},
   "outputs": [],
   "source": [
    "def arvore_dois(dados):\n",
    "    y_hat = [\"null\"]*len(dados['species'])\n",
    "    for i in range(len(dados['species'])):\n",
    "        if dados['flipper_length_mm'][i] > 207:\n",
    "            y_hat[i] = 'Gentoo'\n",
    "        else:\n",
    "            if dados['culmen_length_mm'][i] < 45:\n",
    "                y_hat[i] = 'Adelie'\n",
    "            else:\n",
    "                y_hat[i] = 'Chinstrap'\n",
    "    return y_hat"
   ]
  },
  {
   "cell_type": "code",
   "execution_count": 21,
   "id": "4ddd69b8",
   "metadata": {},
   "outputs": [],
   "source": [
    "y_hat2 = arvore_dois(dados)"
   ]
  },
  {
   "cell_type": "code",
   "execution_count": 22,
   "id": "afb02f9f",
   "metadata": {},
   "outputs": [
    {
     "data": {
      "text/plain": [
       "['Adelie',\n",
       " 'Adelie',\n",
       " 'Adelie',\n",
       " 'Chinstrap',\n",
       " 'Adelie',\n",
       " 'Adelie',\n",
       " 'Adelie',\n",
       " 'Adelie',\n",
       " 'Adelie']"
      ]
     },
     "execution_count": 22,
     "metadata": {},
     "output_type": "execute_result"
    }
   ],
   "source": [
    "y_hat2[0:9]"
   ]
  },
  {
   "cell_type": "markdown",
   "id": "47865aec",
   "metadata": {},
   "source": [
    "### Matriz de confusão para a segunda abordagem e acurácia"
   ]
  },
  {
   "cell_type": "code",
   "execution_count": 23,
   "id": "d46e1a5e",
   "metadata": {},
   "outputs": [
    {
     "name": "stdout",
     "output_type": "stream",
     "text": [
      "A acurácia para a segunda abordgem foi de : 0.9448\n"
     ]
    }
   ],
   "source": [
    "print('A acurácia para a segunda abordgem foi de : {0:0.4f}'. format(accuracy_score(dados['species'], y_hat2)))"
   ]
  },
  {
   "cell_type": "markdown",
   "id": "0d10ca0e",
   "metadata": {},
   "source": [
    "## Usando os pacotes do python"
   ]
  },
  {
   "cell_type": "markdown",
   "id": "81daf305",
   "metadata": {},
   "source": [
    "## Árvores de decisão"
   ]
  },
  {
   "cell_type": "markdown",
   "id": "2d17c8eb",
   "metadata": {},
   "source": [
    "### Seleção das variáveis e one hot encoding"
   ]
  },
  {
   "cell_type": "code",
   "execution_count": 24,
   "id": "e75b4663",
   "metadata": {},
   "outputs": [
    {
     "name": "stderr",
     "output_type": "stream",
     "text": [
      "C:\\Users\\briel\\AppData\\Local\\Temp/ipykernel_12440/3796032113.py:6: FutureWarning:\n",
      "\n",
      "In a future version of pandas all arguments of DataFrame.drop except for the argument 'labels' will be keyword-only.\n",
      "\n"
     ]
    }
   ],
   "source": [
    "dados = pd.read_csv(\"penguins.csv\")\n",
    "# Removendo dados missing\n",
    "dados = dados.dropna()\n",
    "dados = dados[dados['sex'] != \".\"]\n",
    "# Separação entre variável resposta e variáveis explicativas\n",
    "X = dados.drop('species',1)\n",
    "y = pd.DataFrame(dados['species'])\n",
    "# One hot encoding\n",
    "X = pd.get_dummies(X)"
   ]
  },
  {
   "cell_type": "markdown",
   "id": "4445942c",
   "metadata": {},
   "source": [
    "## Separação entre treinamento e validação"
   ]
  },
  {
   "cell_type": "code",
   "execution_count": 25,
   "id": "df84b59b",
   "metadata": {},
   "outputs": [],
   "source": [
    "X_train, X_test, y_train, y_test = train_test_split(X, y, test_size=0.3) # 70% treino e 30% teste"
   ]
  },
  {
   "cell_type": "code",
   "execution_count": 26,
   "id": "6a6e78df",
   "metadata": {},
   "outputs": [],
   "source": [
    "# Criando a árvore de decisão\n",
    "arvore_tres = DecisionTreeClassifier(criterion = 'gini')"
   ]
  },
  {
   "cell_type": "code",
   "execution_count": 27,
   "id": "8f614e4f",
   "metadata": {},
   "outputs": [],
   "source": [
    "# Treinando o modelo\n",
    "arvore_tres = arvore_tres.fit(X_train,y_train)"
   ]
  },
  {
   "cell_type": "code",
   "execution_count": 28,
   "id": "d8ceab0e",
   "metadata": {},
   "outputs": [],
   "source": [
    "# Predição \n",
    "y_hat = arvore_tres.predict(X_test)"
   ]
  },
  {
   "cell_type": "markdown",
   "id": "f6793b3a",
   "metadata": {},
   "source": [
    "### Métricas do modelo"
   ]
  },
  {
   "cell_type": "code",
   "execution_count": 29,
   "id": "cbf49add",
   "metadata": {},
   "outputs": [
    {
     "data": {
      "text/plain": [
       "array([[42,  1,  0],\n",
       "       [ 2, 25,  0],\n",
       "       [ 1,  0, 29]], dtype=int64)"
      ]
     },
     "execution_count": 29,
     "metadata": {},
     "output_type": "execute_result"
    }
   ],
   "source": [
    "# Matriz de confusão\n",
    "confusion_matrix(y_test, y_hat)"
   ]
  },
  {
   "cell_type": "code",
   "execution_count": 30,
   "id": "c5895e24",
   "metadata": {},
   "outputs": [
    {
     "name": "stdout",
     "output_type": "stream",
     "text": [
      "A acurácia foi de : 0.9600\n"
     ]
    }
   ],
   "source": [
    "print('A acurácia foi de : {0:0.4f}'. format(accuracy_score(y_test, y_hat)))"
   ]
  },
  {
   "cell_type": "markdown",
   "id": "f695c6c0",
   "metadata": {},
   "source": [
    "### Validação K-fold"
   ]
  },
  {
   "cell_type": "code",
   "execution_count": 5,
   "id": "a8a36646",
   "metadata": {},
   "outputs": [],
   "source": [
    "def kfold(dados, k):\n",
    "    dados = dados.dropna()\n",
    "    dados = dados[dados['sex'] != \".\"]\n",
    "    dados = dados.sample(n=len(dados))\n",
    "    folds = np.array_split(dados, k)\n",
    "    return folds"
   ]
  },
  {
   "cell_type": "code",
   "execution_count": 32,
   "id": "8adddef4",
   "metadata": {},
   "outputs": [],
   "source": [
    "dados = pd.read_csv(\"penguins.csv\")\n",
    "folds = kfold(dados,5)"
   ]
  },
  {
   "cell_type": "markdown",
   "id": "c028f2dc",
   "metadata": {},
   "source": [
    "### Calculando a acurácia média dos k-folds"
   ]
  },
  {
   "cell_type": "code",
   "execution_count": null,
   "id": "c01e9b4d",
   "metadata": {},
   "outputs": [],
   "source": [
    "# Separando em k-folds\n",
    "dados = pd.read_csv(\"penguins.csv\")\n",
    "folds = kfold(dados,5)\n",
    "# Realizando os cálculos\n",
    "valida = len(folds)-1\n",
    "acuracia = []\n",
    "for i in range(0, len(folds)):\n",
    "    print('O fold de validação foi o : {0:0.0f}'. format(valida))\n",
    "    # Tratando\n",
    "    d = list(folds) \n",
    "    del d[valida]\n",
    "    dados = pd.concat(d)\n",
    "    # Separação entre variável resposta e variáveis explicativas\n",
    "    X = dados.drop('species',1)\n",
    "    y = pd.DataFrame(dados['species'])\n",
    "    # One hot encoding\n",
    "    X = pd.get_dummies(X)\n",
    "    # Modelo\n",
    "    arvore_tres = DecisionTreeClassifier(criterion = 'gini')\n",
    "    # Ajuste\n",
    "    arvore_tres = arvore_tres.fit(X,y)\n",
    "    # Validacao\n",
    "    dados_validacao = folds[valida]\n",
    "    X_valida = dados_validacao.drop('species',1)\n",
    "    X_valida = pd.get_dummies(X_valida)\n",
    "    y_valida = pd.DataFrame(dados_validacao['species'])\n",
    "    y_hat = arvore_tres.predict(X_valida)\n",
    "    # Acurácia\n",
    "    acuracia.append(accuracy_score(y_valida, y_hat))\n",
    "    # Trocando validacao\n",
    "    valida = valida-1"
   ]
  },
  {
   "cell_type": "code",
   "execution_count": 34,
   "id": "dc777f34",
   "metadata": {},
   "outputs": [
    {
     "name": "stdout",
     "output_type": "stream",
     "text": [
      "A acurácia média dos k-folds foi de : 0.9669\n"
     ]
    }
   ],
   "source": [
    "# Resultados\n",
    "acuracia_final = sum(acuracia)/len(folds)\n",
    "print('A acurácia média dos k-folds foi de : {0:0.4f}'. format(acuracia_final))"
   ]
  },
  {
   "cell_type": "markdown",
   "id": "6a0e2c5a",
   "metadata": {},
   "source": [
    "### Validação por holdout repetido"
   ]
  },
  {
   "cell_type": "code",
   "execution_count": null,
   "id": "caf1dc4a",
   "metadata": {},
   "outputs": [],
   "source": [
    "dados = pd.read_csv(\"penguins.csv\")\n",
    "dados = dados.dropna()\n",
    "dados = dados[dados['sex'] != \".\"]\n",
    "acuracia_hold = []\n",
    "n=5\n",
    "for i in range(0,n):\n",
    "    smp_size = math.floor(0.75 * len(dados))\n",
    "    geral = list(pd.DataFrame(range(0, len(dados)))[0])\n",
    "    treino_ind = pd.DataFrame(range(0, len(dados))).sample(n=smp_size, replace=False).index\n",
    "    validacao_ind = [item for item in geral if item not in treino_ind]\n",
    "    dados_treino = dados.iloc[treino_ind]\n",
    "    dados_validacao = dados.iloc[validacao_ind]\n",
    "    X_train = pd.get_dummies(dados_treino.drop('species',1))\n",
    "    X_test = pd.get_dummies(dados_validacao.drop('species',1))\n",
    "    y_train = dados_treino['species']\n",
    "    y_test = dados_validacao['species']\n",
    "    # Criando a árvore de decisão\n",
    "    arvore_tres = DecisionTreeClassifier(criterion = 'gini')\n",
    "    # Treinando o modelo\n",
    "    arvore_tres = arvore_tres.fit(X_train,y_train)\n",
    "    # Predição \n",
    "    y_hat = arvore_tres.predict(X_test)\n",
    "    # Acurácia\n",
    "    acuracia_hold.append(accuracy_score(y_test, y_hat))"
   ]
  },
  {
   "cell_type": "code",
   "execution_count": 36,
   "id": "ae47c48e",
   "metadata": {},
   "outputs": [
    {
     "name": "stdout",
     "output_type": "stream",
     "text": [
      "A acurácia média do holdout repetido 30 vezes foi de : 0.9643\n"
     ]
    }
   ],
   "source": [
    "# Resultados\n",
    "acuracia_final_hold = sum(acuracia_hold)/n\n",
    "print('A acurácia média do holdout repetido 5 vezes foi de : {0:0.4f}'. format(acuracia_final_hold))"
   ]
  },
  {
   "cell_type": "markdown",
   "id": "3605500f",
   "metadata": {},
   "source": [
    "### Visualizando o modelo"
   ]
  },
  {
   "cell_type": "code",
   "execution_count": 57,
   "id": "7517cda2",
   "metadata": {},
   "outputs": [
    {
     "data": {
      "image/svg+xml": [
       "<?xml version=\"1.0\" encoding=\"UTF-8\" standalone=\"no\"?>\n",
       "<!DOCTYPE svg PUBLIC \"-//W3C//DTD SVG 1.1//EN\"\n",
       " \"http://www.w3.org/Graphics/SVG/1.1/DTD/svg11.dtd\">\n",
       "<!-- Generated by graphviz version 2.50.0 (20211204.2007)\n",
       " -->\n",
       "<!-- Title: Tree Pages: 1 -->\n",
       "<svg width=\"844pt\" height=\"433pt\"\n",
       " viewBox=\"0.00 0.00 844.00 433.00\" xmlns=\"http://www.w3.org/2000/svg\" xmlns:xlink=\"http://www.w3.org/1999/xlink\">\n",
       "<g id=\"graph0\" class=\"graph\" transform=\"scale(1 1) rotate(0) translate(4 429)\">\n",
       "<title>Tree</title>\n",
       "<polygon fill=\"white\" stroke=\"transparent\" points=\"-4,4 -4,-429 840,-429 840,4 -4,4\"/>\n",
       "<!-- 0 -->\n",
       "<g id=\"node1\" class=\"node\">\n",
       "<title>0</title>\n",
       "<path fill=\"#fcefe7\" stroke=\"black\" d=\"M589,-425C589,-425 426,-425 426,-425 420,-425 414,-419 414,-413 414,-413 414,-354 414,-354 414,-348 420,-342 426,-342 426,-342 589,-342 589,-342 595,-342 601,-348 601,-354 601,-354 601,-413 601,-413 601,-419 595,-425 589,-425\"/>\n",
       "<text text-anchor=\"start\" x=\"422\" y=\"-409.8\" font-family=\"Helvetica,sans-Serif\" font-size=\"14.00\">flipper_length_mm ≤ 206.0</text>\n",
       "<text text-anchor=\"start\" x=\"470\" y=\"-394.8\" font-family=\"Helvetica,sans-Serif\" font-size=\"14.00\">gini = 0.644</text>\n",
       "<text text-anchor=\"start\" x=\"460\" y=\"-379.8\" font-family=\"Helvetica,sans-Serif\" font-size=\"14.00\">samples = 249</text>\n",
       "<text text-anchor=\"start\" x=\"442.5\" y=\"-364.8\" font-family=\"Helvetica,sans-Serif\" font-size=\"14.00\">value = [107, 55, 87]</text>\n",
       "<text text-anchor=\"start\" x=\"459\" y=\"-349.8\" font-family=\"Helvetica,sans-Serif\" font-size=\"14.00\">class = Gentoo</text>\n",
       "</g>\n",
       "<!-- 1 -->\n",
       "<g id=\"node2\" class=\"node\">\n",
       "<title>1</title>\n",
       "<path fill=\"#f1bd97\" stroke=\"black\" d=\"M482,-306C482,-306 313,-306 313,-306 307,-306 301,-300 301,-294 301,-294 301,-235 301,-235 301,-229 307,-223 313,-223 313,-223 482,-223 482,-223 488,-223 494,-229 494,-235 494,-235 494,-294 494,-294 494,-300 488,-306 482,-306\"/>\n",
       "<text text-anchor=\"start\" x=\"309\" y=\"-290.8\" font-family=\"Helvetica,sans-Serif\" font-size=\"14.00\">culmen_length_mm ≤ 43.35</text>\n",
       "<text text-anchor=\"start\" x=\"360\" y=\"-275.8\" font-family=\"Helvetica,sans-Serif\" font-size=\"14.00\">gini = 0.437</text>\n",
       "<text text-anchor=\"start\" x=\"350\" y=\"-260.8\" font-family=\"Helvetica,sans-Serif\" font-size=\"14.00\">samples = 155</text>\n",
       "<text text-anchor=\"start\" x=\"337\" y=\"-245.8\" font-family=\"Helvetica,sans-Serif\" font-size=\"14.00\">value = [105, 50, 0]</text>\n",
       "<text text-anchor=\"start\" x=\"349\" y=\"-230.8\" font-family=\"Helvetica,sans-Serif\" font-size=\"14.00\">class = Gentoo</text>\n",
       "</g>\n",
       "<!-- 0&#45;&gt;1 -->\n",
       "<g id=\"edge1\" class=\"edge\">\n",
       "<title>0&#45;&gt;1</title>\n",
       "<path fill=\"none\" stroke=\"black\" d=\"M469.34,-341.91C460.72,-332.74 451.49,-322.93 442.62,-313.49\"/>\n",
       "<polygon fill=\"black\" stroke=\"black\" points=\"445,-310.91 435.6,-306.02 439.9,-315.7 445,-310.91\"/>\n",
       "<text text-anchor=\"middle\" x=\"434.83\" y=\"-327.31\" font-family=\"Helvetica,sans-Serif\" font-size=\"14.00\">True</text>\n",
       "</g>\n",
       "<!-- 8 -->\n",
       "<g id=\"node9\" class=\"node\">\n",
       "<title>8</title>\n",
       "<path fill=\"#8b49e7\" stroke=\"black\" d=\"M659,-306C659,-306 542,-306 542,-306 536,-306 530,-300 530,-294 530,-294 530,-235 530,-235 530,-229 536,-223 542,-223 542,-223 659,-223 659,-223 665,-223 671,-229 671,-235 671,-235 671,-294 671,-294 671,-300 665,-306 659,-306\"/>\n",
       "<text text-anchor=\"start\" x=\"538\" y=\"-290.8\" font-family=\"Helvetica,sans-Serif\" font-size=\"14.00\">island_Biscoe ≤ 0.5</text>\n",
       "<text text-anchor=\"start\" x=\"567\" y=\"-275.8\" font-family=\"Helvetica,sans-Serif\" font-size=\"14.00\">gini = 0.14</text>\n",
       "<text text-anchor=\"start\" x=\"557\" y=\"-260.8\" font-family=\"Helvetica,sans-Serif\" font-size=\"14.00\">samples = 94</text>\n",
       "<text text-anchor=\"start\" x=\"548\" y=\"-245.8\" font-family=\"Helvetica,sans-Serif\" font-size=\"14.00\">value = [2, 5, 87]</text>\n",
       "<text text-anchor=\"start\" x=\"555.5\" y=\"-230.8\" font-family=\"Helvetica,sans-Serif\" font-size=\"14.00\">class = Adelie</text>\n",
       "</g>\n",
       "<!-- 0&#45;&gt;8 -->\n",
       "<g id=\"edge8\" class=\"edge\">\n",
       "<title>0&#45;&gt;8</title>\n",
       "<path fill=\"none\" stroke=\"black\" d=\"M539.77,-341.91C546.91,-332.92 554.54,-323.32 561.91,-314.05\"/>\n",
       "<polygon fill=\"black\" stroke=\"black\" points=\"564.81,-316.03 568.29,-306.02 559.33,-311.67 564.81,-316.03\"/>\n",
       "<text text-anchor=\"middle\" x=\"571.13\" y=\"-327.16\" font-family=\"Helvetica,sans-Serif\" font-size=\"14.00\">False</text>\n",
       "</g>\n",
       "<!-- 2 -->\n",
       "<g id=\"node3\" class=\"node\">\n",
       "<title>2</title>\n",
       "<path fill=\"#e68743\" stroke=\"black\" d=\"M280,-187C280,-187 111,-187 111,-187 105,-187 99,-181 99,-175 99,-175 99,-116 99,-116 99,-110 105,-104 111,-104 111,-104 280,-104 280,-104 286,-104 292,-110 292,-116 292,-116 292,-175 292,-175 292,-181 286,-187 280,-187\"/>\n",
       "<text text-anchor=\"start\" x=\"107\" y=\"-171.8\" font-family=\"Helvetica,sans-Serif\" font-size=\"14.00\">culmen_length_mm ≤ 42.35</text>\n",
       "<text text-anchor=\"start\" x=\"158\" y=\"-156.8\" font-family=\"Helvetica,sans-Serif\" font-size=\"14.00\">gini = 0.088</text>\n",
       "<text text-anchor=\"start\" x=\"148\" y=\"-141.8\" font-family=\"Helvetica,sans-Serif\" font-size=\"14.00\">samples = 108</text>\n",
       "<text text-anchor=\"start\" x=\"139\" y=\"-126.8\" font-family=\"Helvetica,sans-Serif\" font-size=\"14.00\">value = [103, 5, 0]</text>\n",
       "<text text-anchor=\"start\" x=\"147\" y=\"-111.8\" font-family=\"Helvetica,sans-Serif\" font-size=\"14.00\">class = Gentoo</text>\n",
       "</g>\n",
       "<!-- 1&#45;&gt;2 -->\n",
       "<g id=\"edge2\" class=\"edge\">\n",
       "<title>1&#45;&gt;2</title>\n",
       "<path fill=\"none\" stroke=\"black\" d=\"M327.42,-222.91C310.34,-213.02 291.96,-202.37 274.49,-192.25\"/>\n",
       "<polygon fill=\"black\" stroke=\"black\" points=\"275.87,-189 265.46,-187.02 272.36,-195.06 275.87,-189\"/>\n",
       "</g>\n",
       "<!-- 5 -->\n",
       "<g id=\"node6\" class=\"node\">\n",
       "<title>5</title>\n",
       "<path fill=\"#42e687\" stroke=\"black\" d=\"M455.5,-187C455.5,-187 339.5,-187 339.5,-187 333.5,-187 327.5,-181 327.5,-175 327.5,-175 327.5,-116 327.5,-116 327.5,-110 333.5,-104 339.5,-104 339.5,-104 455.5,-104 455.5,-104 461.5,-104 467.5,-110 467.5,-116 467.5,-116 467.5,-175 467.5,-175 467.5,-181 461.5,-187 455.5,-187\"/>\n",
       "<text text-anchor=\"start\" x=\"335.5\" y=\"-171.8\" font-family=\"Helvetica,sans-Serif\" font-size=\"14.00\">island_Dream ≤ 0.5</text>\n",
       "<text text-anchor=\"start\" x=\"360\" y=\"-156.8\" font-family=\"Helvetica,sans-Serif\" font-size=\"14.00\">gini = 0.081</text>\n",
       "<text text-anchor=\"start\" x=\"354\" y=\"-141.8\" font-family=\"Helvetica,sans-Serif\" font-size=\"14.00\">samples = 47</text>\n",
       "<text text-anchor=\"start\" x=\"345\" y=\"-126.8\" font-family=\"Helvetica,sans-Serif\" font-size=\"14.00\">value = [2, 45, 0]</text>\n",
       "<text text-anchor=\"start\" x=\"343\" y=\"-111.8\" font-family=\"Helvetica,sans-Serif\" font-size=\"14.00\">class = Chinstrap</text>\n",
       "</g>\n",
       "<!-- 1&#45;&gt;5 -->\n",
       "<g id=\"edge5\" class=\"edge\">\n",
       "<title>1&#45;&gt;5</title>\n",
       "<path fill=\"none\" stroke=\"black\" d=\"M397.5,-222.91C397.5,-214.65 397.5,-205.86 397.5,-197.3\"/>\n",
       "<polygon fill=\"black\" stroke=\"black\" points=\"401,-197.02 397.5,-187.02 394,-197.02 401,-197.02\"/>\n",
       "</g>\n",
       "<!-- 3 -->\n",
       "<g id=\"node4\" class=\"node\">\n",
       "<title>3</title>\n",
       "<path fill=\"#e5823b\" stroke=\"black\" d=\"M109,-68C109,-68 12,-68 12,-68 6,-68 0,-62 0,-56 0,-56 0,-12 0,-12 0,-6 6,0 12,0 12,0 109,0 109,0 115,0 121,-6 121,-12 121,-12 121,-56 121,-56 121,-62 115,-68 109,-68\"/>\n",
       "<text text-anchor=\"start\" x=\"27\" y=\"-52.8\" font-family=\"Helvetica,sans-Serif\" font-size=\"14.00\">gini = 0.02</text>\n",
       "<text text-anchor=\"start\" x=\"17\" y=\"-37.8\" font-family=\"Helvetica,sans-Serif\" font-size=\"14.00\">samples = 99</text>\n",
       "<text text-anchor=\"start\" x=\"8\" y=\"-22.8\" font-family=\"Helvetica,sans-Serif\" font-size=\"14.00\">value = [98, 1, 0]</text>\n",
       "<text text-anchor=\"start\" x=\"12\" y=\"-7.8\" font-family=\"Helvetica,sans-Serif\" font-size=\"14.00\">class = Gentoo</text>\n",
       "</g>\n",
       "<!-- 2&#45;&gt;3 -->\n",
       "<g id=\"edge3\" class=\"edge\">\n",
       "<title>2&#45;&gt;3</title>\n",
       "<path fill=\"none\" stroke=\"black\" d=\"M145.23,-103.73C133.54,-94.24 121.1,-84.16 109.46,-74.72\"/>\n",
       "<polygon fill=\"black\" stroke=\"black\" points=\"111.53,-71.88 101.55,-68.3 107.12,-77.32 111.53,-71.88\"/>\n",
       "</g>\n",
       "<!-- 4 -->\n",
       "<g id=\"node5\" class=\"node\">\n",
       "<title>4</title>\n",
       "<path fill=\"#fae6d7\" stroke=\"black\" d=\"M240,-68C240,-68 151,-68 151,-68 145,-68 139,-62 139,-56 139,-56 139,-12 139,-12 139,-6 145,0 151,0 151,0 240,0 240,0 246,0 252,-6 252,-12 252,-12 252,-56 252,-56 252,-62 246,-68 240,-68\"/>\n",
       "<text text-anchor=\"start\" x=\"158\" y=\"-52.8\" font-family=\"Helvetica,sans-Serif\" font-size=\"14.00\">gini = 0.494</text>\n",
       "<text text-anchor=\"start\" x=\"156\" y=\"-37.8\" font-family=\"Helvetica,sans-Serif\" font-size=\"14.00\">samples = 9</text>\n",
       "<text text-anchor=\"start\" x=\"147\" y=\"-22.8\" font-family=\"Helvetica,sans-Serif\" font-size=\"14.00\">value = [5, 4, 0]</text>\n",
       "<text text-anchor=\"start\" x=\"147\" y=\"-7.8\" font-family=\"Helvetica,sans-Serif\" font-size=\"14.00\">class = Gentoo</text>\n",
       "</g>\n",
       "<!-- 2&#45;&gt;4 -->\n",
       "<g id=\"edge4\" class=\"edge\">\n",
       "<title>2&#45;&gt;4</title>\n",
       "<path fill=\"none\" stroke=\"black\" d=\"M195.5,-103.73C195.5,-95.52 195.5,-86.86 195.5,-78.56\"/>\n",
       "<polygon fill=\"black\" stroke=\"black\" points=\"199,-78.3 195.5,-68.3 192,-78.3 199,-78.3\"/>\n",
       "</g>\n",
       "<!-- 6 -->\n",
       "<g id=\"node7\" class=\"node\">\n",
       "<title>6</title>\n",
       "<path fill=\"#e58139\" stroke=\"black\" d=\"M371,-68C371,-68 282,-68 282,-68 276,-68 270,-62 270,-56 270,-56 270,-12 270,-12 270,-6 276,0 282,0 282,0 371,0 371,0 377,0 383,-6 383,-12 383,-12 383,-56 383,-56 383,-62 377,-68 371,-68\"/>\n",
       "<text text-anchor=\"start\" x=\"297.5\" y=\"-52.8\" font-family=\"Helvetica,sans-Serif\" font-size=\"14.00\">gini = 0.0</text>\n",
       "<text text-anchor=\"start\" x=\"287\" y=\"-37.8\" font-family=\"Helvetica,sans-Serif\" font-size=\"14.00\">samples = 2</text>\n",
       "<text text-anchor=\"start\" x=\"278\" y=\"-22.8\" font-family=\"Helvetica,sans-Serif\" font-size=\"14.00\">value = [2, 0, 0]</text>\n",
       "<text text-anchor=\"start\" x=\"278\" y=\"-7.8\" font-family=\"Helvetica,sans-Serif\" font-size=\"14.00\">class = Gentoo</text>\n",
       "</g>\n",
       "<!-- 5&#45;&gt;6 -->\n",
       "<g id=\"edge6\" class=\"edge\">\n",
       "<title>5&#45;&gt;6</title>\n",
       "<path fill=\"none\" stroke=\"black\" d=\"M371.06,-103.73C365.38,-94.97 359.38,-85.7 353.67,-76.91\"/>\n",
       "<polygon fill=\"black\" stroke=\"black\" points=\"356.47,-74.79 348.09,-68.3 350.6,-78.59 356.47,-74.79\"/>\n",
       "</g>\n",
       "<!-- 7 -->\n",
       "<g id=\"node8\" class=\"node\">\n",
       "<title>7</title>\n",
       "<path fill=\"#39e581\" stroke=\"black\" d=\"M514,-68C514,-68 413,-68 413,-68 407,-68 401,-62 401,-56 401,-56 401,-12 401,-12 401,-6 407,0 413,0 413,0 514,0 514,0 520,0 526,-6 526,-12 526,-12 526,-56 526,-56 526,-62 520,-68 514,-68\"/>\n",
       "<text text-anchor=\"start\" x=\"434.5\" y=\"-52.8\" font-family=\"Helvetica,sans-Serif\" font-size=\"14.00\">gini = 0.0</text>\n",
       "<text text-anchor=\"start\" x=\"420\" y=\"-37.8\" font-family=\"Helvetica,sans-Serif\" font-size=\"14.00\">samples = 45</text>\n",
       "<text text-anchor=\"start\" x=\"411\" y=\"-22.8\" font-family=\"Helvetica,sans-Serif\" font-size=\"14.00\">value = [0, 45, 0]</text>\n",
       "<text text-anchor=\"start\" x=\"409\" y=\"-7.8\" font-family=\"Helvetica,sans-Serif\" font-size=\"14.00\">class = Chinstrap</text>\n",
       "</g>\n",
       "<!-- 5&#45;&gt;7 -->\n",
       "<g id=\"edge7\" class=\"edge\">\n",
       "<title>5&#45;&gt;7</title>\n",
       "<path fill=\"none\" stroke=\"black\" d=\"M422.08,-103.73C427.35,-94.97 432.94,-85.7 438.24,-76.91\"/>\n",
       "<polygon fill=\"black\" stroke=\"black\" points=\"441.26,-78.67 443.43,-68.3 435.27,-75.06 441.26,-78.67\"/>\n",
       "</g>\n",
       "<!-- 9 -->\n",
       "<g id=\"node10\" class=\"node\">\n",
       "<title>9</title>\n",
       "<path fill=\"#88efb3\" stroke=\"black\" d=\"M685,-187C685,-187 516,-187 516,-187 510,-187 504,-181 504,-175 504,-175 504,-116 504,-116 504,-110 510,-104 516,-104 516,-104 685,-104 685,-104 691,-104 697,-110 697,-116 697,-116 697,-175 697,-175 697,-181 691,-187 685,-187\"/>\n",
       "<text text-anchor=\"start\" x=\"512\" y=\"-171.8\" font-family=\"Helvetica,sans-Serif\" font-size=\"14.00\">culmen_length_mm ≤ 46.55</text>\n",
       "<text text-anchor=\"start\" x=\"563\" y=\"-156.8\" font-family=\"Helvetica,sans-Serif\" font-size=\"14.00\">gini = 0.408</text>\n",
       "<text text-anchor=\"start\" x=\"561\" y=\"-141.8\" font-family=\"Helvetica,sans-Serif\" font-size=\"14.00\">samples = 7</text>\n",
       "<text text-anchor=\"start\" x=\"552\" y=\"-126.8\" font-family=\"Helvetica,sans-Serif\" font-size=\"14.00\">value = [2, 5, 0]</text>\n",
       "<text text-anchor=\"start\" x=\"546\" y=\"-111.8\" font-family=\"Helvetica,sans-Serif\" font-size=\"14.00\">class = Chinstrap</text>\n",
       "</g>\n",
       "<!-- 8&#45;&gt;9 -->\n",
       "<g id=\"edge9\" class=\"edge\">\n",
       "<title>8&#45;&gt;9</title>\n",
       "<path fill=\"none\" stroke=\"black\" d=\"M600.5,-222.91C600.5,-214.65 600.5,-205.86 600.5,-197.3\"/>\n",
       "<polygon fill=\"black\" stroke=\"black\" points=\"604,-197.02 600.5,-187.02 597,-197.02 604,-197.02\"/>\n",
       "</g>\n",
       "<!-- 12 -->\n",
       "<g id=\"node13\" class=\"node\">\n",
       "<title>12</title>\n",
       "<path fill=\"#8139e5\" stroke=\"black\" d=\"M824,-179.5C824,-179.5 727,-179.5 727,-179.5 721,-179.5 715,-173.5 715,-167.5 715,-167.5 715,-123.5 715,-123.5 715,-117.5 721,-111.5 727,-111.5 727,-111.5 824,-111.5 824,-111.5 830,-111.5 836,-117.5 836,-123.5 836,-123.5 836,-167.5 836,-167.5 836,-173.5 830,-179.5 824,-179.5\"/>\n",
       "<text text-anchor=\"start\" x=\"746.5\" y=\"-164.3\" font-family=\"Helvetica,sans-Serif\" font-size=\"14.00\">gini = 0.0</text>\n",
       "<text text-anchor=\"start\" x=\"732\" y=\"-149.3\" font-family=\"Helvetica,sans-Serif\" font-size=\"14.00\">samples = 87</text>\n",
       "<text text-anchor=\"start\" x=\"723\" y=\"-134.3\" font-family=\"Helvetica,sans-Serif\" font-size=\"14.00\">value = [0, 0, 87]</text>\n",
       "<text text-anchor=\"start\" x=\"730.5\" y=\"-119.3\" font-family=\"Helvetica,sans-Serif\" font-size=\"14.00\">class = Adelie</text>\n",
       "</g>\n",
       "<!-- 8&#45;&gt;12 -->\n",
       "<g id=\"edge12\" class=\"edge\">\n",
       "<title>8&#45;&gt;12</title>\n",
       "<path fill=\"none\" stroke=\"black\" d=\"M661.22,-222.91C679.37,-210.77 699.23,-197.49 717.22,-185.46\"/>\n",
       "<polygon fill=\"black\" stroke=\"black\" points=\"719.52,-188.13 725.89,-179.67 715.63,-182.32 719.52,-188.13\"/>\n",
       "</g>\n",
       "<!-- 10 -->\n",
       "<g id=\"node11\" class=\"node\">\n",
       "<title>10</title>\n",
       "<path fill=\"#e58139\" stroke=\"black\" d=\"M645,-68C645,-68 556,-68 556,-68 550,-68 544,-62 544,-56 544,-56 544,-12 544,-12 544,-6 550,0 556,0 556,0 645,0 645,0 651,0 657,-6 657,-12 657,-12 657,-56 657,-56 657,-62 651,-68 645,-68\"/>\n",
       "<text text-anchor=\"start\" x=\"571.5\" y=\"-52.8\" font-family=\"Helvetica,sans-Serif\" font-size=\"14.00\">gini = 0.0</text>\n",
       "<text text-anchor=\"start\" x=\"561\" y=\"-37.8\" font-family=\"Helvetica,sans-Serif\" font-size=\"14.00\">samples = 2</text>\n",
       "<text text-anchor=\"start\" x=\"552\" y=\"-22.8\" font-family=\"Helvetica,sans-Serif\" font-size=\"14.00\">value = [2, 0, 0]</text>\n",
       "<text text-anchor=\"start\" x=\"552\" y=\"-7.8\" font-family=\"Helvetica,sans-Serif\" font-size=\"14.00\">class = Gentoo</text>\n",
       "</g>\n",
       "<!-- 9&#45;&gt;10 -->\n",
       "<g id=\"edge10\" class=\"edge\">\n",
       "<title>9&#45;&gt;10</title>\n",
       "<path fill=\"none\" stroke=\"black\" d=\"M600.5,-103.73C600.5,-95.52 600.5,-86.86 600.5,-78.56\"/>\n",
       "<polygon fill=\"black\" stroke=\"black\" points=\"604,-78.3 600.5,-68.3 597,-78.3 604,-78.3\"/>\n",
       "</g>\n",
       "<!-- 11 -->\n",
       "<g id=\"node12\" class=\"node\">\n",
       "<title>11</title>\n",
       "<path fill=\"#39e581\" stroke=\"black\" d=\"M788,-68C788,-68 687,-68 687,-68 681,-68 675,-62 675,-56 675,-56 675,-12 675,-12 675,-6 681,0 687,0 687,0 788,0 788,0 794,0 800,-6 800,-12 800,-12 800,-56 800,-56 800,-62 794,-68 788,-68\"/>\n",
       "<text text-anchor=\"start\" x=\"708.5\" y=\"-52.8\" font-family=\"Helvetica,sans-Serif\" font-size=\"14.00\">gini = 0.0</text>\n",
       "<text text-anchor=\"start\" x=\"698\" y=\"-37.8\" font-family=\"Helvetica,sans-Serif\" font-size=\"14.00\">samples = 5</text>\n",
       "<text text-anchor=\"start\" x=\"689\" y=\"-22.8\" font-family=\"Helvetica,sans-Serif\" font-size=\"14.00\">value = [0, 5, 0]</text>\n",
       "<text text-anchor=\"start\" x=\"683\" y=\"-7.8\" font-family=\"Helvetica,sans-Serif\" font-size=\"14.00\">class = Chinstrap</text>\n",
       "</g>\n",
       "<!-- 9&#45;&gt;11 -->\n",
       "<g id=\"edge11\" class=\"edge\">\n",
       "<title>9&#45;&gt;11</title>\n",
       "<path fill=\"none\" stroke=\"black\" d=\"M651.51,-103.73C663.38,-94.24 676,-84.16 687.81,-74.72\"/>\n",
       "<polygon fill=\"black\" stroke=\"black\" points=\"690.21,-77.28 695.84,-68.3 685.84,-71.81 690.21,-77.28\"/>\n",
       "</g>\n",
       "</g>\n",
       "</svg>\n"
      ],
      "text/plain": [
       "<graphviz.sources.Source at 0x20d5a915100>"
      ]
     },
     "execution_count": 57,
     "metadata": {},
     "output_type": "execute_result"
    }
   ],
   "source": [
    "# Criando objeto com o nome das features e targets\n",
    "nomes_features = [item for item in X_train.columns]\n",
    "nomes_target = y_train.unique()\n",
    "# Plotando a árvore resultante\n",
    "dot_data = tree.export_graphviz(arvore_tres, out_file=None,\n",
    "                      feature_names=nomes,  \n",
    "                      class_names=nomes_target,  \n",
    "                      filled=True, rounded=True,  \n",
    "                      special_characters=True)  \n",
    "graph = graphviz.Source(dot_data)  \n",
    "graph "
   ]
  },
  {
   "cell_type": "markdown",
   "id": "2c3da33d",
   "metadata": {},
   "source": [
    "## Random Forest"
   ]
  },
  {
   "cell_type": "markdown",
   "id": "58ab96e8",
   "metadata": {},
   "source": [
    "### Validação com k-fold"
   ]
  },
  {
   "cell_type": "code",
   "execution_count": null,
   "id": "4545d11f",
   "metadata": {},
   "outputs": [],
   "source": [
    "# Separando em k-folds\n",
    "dados = pd.read_csv(\"penguins.csv\")\n",
    "folds = kfold(dados,5)\n",
    "# Realizando os cálculos\n",
    "valida = len(folds)-1\n",
    "acuracia_florestinha = []\n",
    "for i in range(0, len(folds)):\n",
    "    print('O fold de validação foi o : {0:0.0f}'. format(valida))\n",
    "    # Tratando\n",
    "    d = list(folds) \n",
    "    del d[valida]\n",
    "    dados = pd.concat(d)\n",
    "    # Separação entre variável resposta e variáveis explicativas\n",
    "    X = dados.drop('species',1)\n",
    "    y = pd.DataFrame(dados['species'])\n",
    "    # One hot encoding\n",
    "    X = pd.get_dummies(X)\n",
    "    # Modelo\n",
    "    florestinha = RandomForestClassifier()\n",
    "    # Ajuste\n",
    "    florestinha = florestinha.fit(X,y.values.ravel())\n",
    "    # Validacao\n",
    "    dados_validacao = folds[valida]\n",
    "    X_valida = dados_validacao.drop('species',1)\n",
    "    X_valida = pd.get_dummies(X_valida)\n",
    "    y_valida = pd.DataFrame(dados_validacao['species'])\n",
    "    y_hat = florestinha.predict(X_valida)\n",
    "    # Acurácia\n",
    "    acuracia_florestinha.append(accuracy_score(y_valida, y_hat))\n",
    "    # Trocando validacao\n",
    "    valida = valida-1"
   ]
  },
  {
   "cell_type": "code",
   "execution_count": 120,
   "id": "59bea166",
   "metadata": {},
   "outputs": [
    {
     "name": "stdout",
     "output_type": "stream",
     "text": [
      "A acurácia média dos k-folds foi de : 0.9940\n"
     ]
    }
   ],
   "source": [
    "# Resultados\n",
    "acuracia_final_florestinha = sum(acuracia_florestinha)/len(folds)\n",
    "print('A acurácia média dos k-folds foi de : {0:0.4f}'. format(acuracia_final_florestinha))"
   ]
  },
  {
   "cell_type": "markdown",
   "id": "254d5c29",
   "metadata": {},
   "source": [
    "### Tunando parâmetros do Random Forest"
   ]
  },
  {
   "cell_type": "code",
   "execution_count": null,
   "id": "e33df487",
   "metadata": {},
   "outputs": [],
   "source": [
    "# Carregando os dados\n",
    "dados = pd.read_csv(\"penguins.csv\")\n",
    "# Removendo dados missing\n",
    "dados = dados.dropna()\n",
    "dados = dados[dados['sex'] != \".\"]\n",
    "# Separação entre variável resposta e variáveis explicativas\n",
    "X = dados.drop('species',1)\n",
    "y = pd.DataFrame(dados['species'])\n",
    "# One hot encoding\n",
    "X = pd.get_dummies(X)\n",
    "# Separando entre treino e validação\n",
    "X_train, X_test, y_train, y_test = train_test_split(X, y, test_size=0.3) # 70% treino e 30% teste"
   ]
  },
  {
   "cell_type": "markdown",
   "id": "34c677e1",
   "metadata": {},
   "source": [
    "Por padrão a função GridSearchCV usa a acurácia como medidade de qualidade para escolher os hiperparâmetros.\n",
    "\n",
    "Descrição dos parâmetros que iremos tunar:\n",
    "\n",
    "* max_depth: Profundidade máxima de uma árvore que compõe a floresta \n",
    "* max_features: O maior número de features (covariáveis) a serem consideradas quando o algoritmo está buscando pela melhor ramificação\n",
    "* n_estimators: Número de árvores na floresta (Random Forest)\n",
    "\n",
    "Quando max_features = auto a função usa a raíz quadrada.\n"
   ]
  },
  {
   "cell_type": "code",
   "execution_count": 147,
   "id": "b16405fc",
   "metadata": {},
   "outputs": [
    {
     "data": {
      "text/plain": [
       "{'max_depth': 6, 'max_features': 'log2', 'n_estimators': 20}"
      ]
     },
     "execution_count": 147,
     "metadata": {},
     "output_type": "execute_result"
    }
   ],
   "source": [
    "# Criando grid com os parâmetros que vão ser testados\n",
    "param_grid = {\n",
    "    \"max_depth\": [2, 3, 4, 5, 6],\n",
    "    \"max_features\": [\"auto\", \"sqrt\", \"log2\"],\n",
    "    \"n_estimators\": [10, 20, 50, 100]\n",
    "}\n",
    "# Criando o modelo\n",
    "rf = RandomForestClassifier()\n",
    "rf_cv = GridSearchCV(estimator=rf, param_grid=param_grid, cv=10)\n",
    "rf_cv.fit(X_train, y_train.values.ravel())\n",
    "\n",
    "# Mostrando os melhores parâmetros\n",
    "rf_cv.best_params_"
   ]
  },
  {
   "cell_type": "markdown",
   "id": "987d6751",
   "metadata": {},
   "source": [
    "### Ajustando o modelo novamente com os parâmetros encontrados"
   ]
  },
  {
   "cell_type": "code",
   "execution_count": null,
   "id": "7822948c",
   "metadata": {},
   "outputs": [],
   "source": [
    "# Separando em k-folds\n",
    "dados = pd.read_csv(\"penguins.csv\")\n",
    "folds = kfold(dados,5)\n",
    "# Realizando os cálculos\n",
    "valida = len(folds)-1\n",
    "acuracia_tunning = []\n",
    "for i in range(0, len(folds)):\n",
    "    print('O fold de validação foi o : {0:0.0f}'. format(valida))\n",
    "    # Tratando\n",
    "    d = list(folds) \n",
    "    del d[valida]\n",
    "    dados = pd.concat(d)\n",
    "    # Separação entre variável resposta e variáveis explicativas\n",
    "    X = dados.drop('species',1)\n",
    "    y = pd.DataFrame(dados['species'])\n",
    "    # One hot encoding\n",
    "    X = pd.get_dummies(X)\n",
    "    # Modelo com os parâmetros atualizados \n",
    "    florestinha = RandomForestClassifier(max_depth=6, max_features='log2', n_estimators=20)\n",
    "    # Ajuste\n",
    "    florestinha = florestinha.fit(X,y.values.ravel())\n",
    "    # Validacao\n",
    "    dados_validacao = folds[valida]\n",
    "    X_valida = dados_validacao.drop('species',1)\n",
    "    X_valida = pd.get_dummies(X_valida)\n",
    "    y_valida = pd.DataFrame(dados_validacao['species'])\n",
    "    y_hat = florestinha.predict(X_valida)\n",
    "    # Acurácia\n",
    "    acuracia_tunning.append(accuracy_score(y_valida, y_hat))\n",
    "    # Trocando validacao\n",
    "    valida = valida-1"
   ]
  },
  {
   "cell_type": "code",
   "execution_count": 153,
   "id": "bad41969",
   "metadata": {},
   "outputs": [
    {
     "name": "stdout",
     "output_type": "stream",
     "text": [
      "A acurácia média dos k-folds foi de : 0.9940\n"
     ]
    }
   ],
   "source": [
    "# Resultados\n",
    "acuracia_final_tunning = sum(acuracia_tunning)/len(folds)\n",
    "print('A acurácia média dos k-folds foi de : {0:0.4f}'. format(acuracia_final_tunning))"
   ]
  },
  {
   "cell_type": "markdown",
   "id": "85c544b4",
   "metadata": {},
   "source": [
    "## AdaBoosting"
   ]
  },
  {
   "cell_type": "markdown",
   "id": "53b3ed46",
   "metadata": {},
   "source": [
    "### Validação por k-fold"
   ]
  },
  {
   "cell_type": "code",
   "execution_count": null,
   "id": "6b05d933",
   "metadata": {},
   "outputs": [],
   "source": [
    "# Separando em k-folds\n",
    "dados = pd.read_csv(\"penguins.csv\")\n",
    "folds = kfold(dados,5)\n",
    "# Realizando os cálculos\n",
    "valida = len(folds)-1\n",
    "acuracia_adb = []\n",
    "for i in range(0, len(folds)):\n",
    "    print('O fold de validação foi o : {0:0.0f}'. format(valida))\n",
    "    # Tratando\n",
    "    d = list(folds) \n",
    "    del d[valida]\n",
    "    dados = pd.concat(d)\n",
    "    # Separação entre variável resposta e variáveis explicativas\n",
    "    X = dados.drop('species',1)\n",
    "    y = pd.DataFrame(dados['species'])\n",
    "    # One hot encoding\n",
    "    X = pd.get_dummies(X)\n",
    "    # Modelo\n",
    "    adb = AdaBoostClassifier()\n",
    "    # Ajuste\n",
    "    adb = adb.fit(X,y.values.ravel())\n",
    "    # Validacao\n",
    "    dados_validacao = folds[valida]\n",
    "    X_valida = dados_validacao.drop('species',1)\n",
    "    X_valida = pd.get_dummies(X_valida)\n",
    "    y_valida = pd.DataFrame(dados_validacao['species'])\n",
    "    y_hat = adb.predict(X_valida)\n",
    "    # Acurácia\n",
    "    acuracia_adb.append(accuracy_score(y_valida, y_hat))\n",
    "    # Trocando validacao\n",
    "    valida = valida-1"
   ]
  },
  {
   "cell_type": "code",
   "execution_count": 29,
   "id": "112c8866",
   "metadata": {},
   "outputs": [
    {
     "name": "stdout",
     "output_type": "stream",
     "text": [
      "A acurácia média dos k-folds foi de : 0.8379\n"
     ]
    }
   ],
   "source": [
    "# Resultados\n",
    "acuracia_final_adb = sum(acuracia_adb)/len(folds)\n",
    "print('A acurácia média dos k-folds foi de : {0:0.4f}'. format(acuracia_final_adb))"
   ]
  },
  {
   "cell_type": "markdown",
   "id": "31964642",
   "metadata": {},
   "source": [
    "### Tunando parâmetros do Adaboost"
   ]
  },
  {
   "cell_type": "code",
   "execution_count": null,
   "id": "336106bb",
   "metadata": {},
   "outputs": [],
   "source": [
    "# Carregando os dados\n",
    "dados = pd.read_csv(\"penguins.csv\")\n",
    "# Removendo dados missing\n",
    "dados = dados.dropna()\n",
    "dados = dados[dados['sex'] != \".\"]\n",
    "# Separação entre variável resposta e variáveis explicativas\n",
    "X = dados.drop('species',1)\n",
    "y = pd.DataFrame(dados['species'])\n",
    "# One hot encoding\n",
    "X = pd.get_dummies(X)\n",
    "# Separando entre treino e validação\n",
    "X_train, X_test, y_train, y_test = train_test_split(X, y, test_size=0.3) # 70% treino e 30% teste"
   ]
  },
  {
   "cell_type": "markdown",
   "id": "0e6241ab",
   "metadata": {},
   "source": [
    "Por padrão a função GridSearchCV usa a acurácia como medidade de qualidade para escolher os hiperparâmetros.\n",
    "\n",
    "Descrição dos parâmetros que iremos tunar:\n",
    "\n",
    "* base_estimator: Estimador base no qual o 'boosted ensemble' é criado, por padrão é o DecisionTreeClassifier.\n",
    "* n_estimators: Número máximo de estimadores no qual o boosting é determinado.\n",
    "* learning_rate: Peso aplicado para cada classificador em cada iteração do boosting"
   ]
  },
  {
   "cell_type": "code",
   "execution_count": 36,
   "id": "22da3399",
   "metadata": {},
   "outputs": [
    {
     "data": {
      "text/plain": [
       "{'learning_rate': 0.5, 'n_estimators': 100}"
      ]
     },
     "execution_count": 36,
     "metadata": {},
     "output_type": "execute_result"
    }
   ],
   "source": [
    "# Criando grid com os parâmetros que vão ser testados\n",
    "param_grid = {\n",
    "    \"n_estimators\": [10,20,50,100,150],\n",
    "    \"learning_rate\": [0.0001, 0.001, 0.01, 0.1, 0.5, 0.8, 1]\n",
    "}\n",
    "# Criando o modelo\n",
    "adb = AdaBoostClassifier()\n",
    "adb_cv = GridSearchCV(estimator=adb, param_grid=param_grid, cv=10)\n",
    "adb_cv.fit(X_train, y_train.values.ravel())\n",
    "\n",
    "# Mostrando os melhores parâmetros\n",
    "adb_cv.best_params_"
   ]
  },
  {
   "cell_type": "markdown",
   "id": "0fb3176f",
   "metadata": {},
   "source": [
    "### Ajustando o modelo novamente com os parâmetros encontrados"
   ]
  },
  {
   "cell_type": "code",
   "execution_count": null,
   "id": "12eab345",
   "metadata": {},
   "outputs": [],
   "source": [
    "# Separando em k-folds\n",
    "dados = pd.read_csv(\"penguins.csv\")\n",
    "folds = kfold(dados,5)\n",
    "# Realizando os cálculos\n",
    "valida = len(folds)-1\n",
    "acuracia_adb_tunado = []\n",
    "for i in range(0, len(folds)):\n",
    "    print('O fold de validação foi o : {0:0.0f}'. format(valida))\n",
    "    # Tratando\n",
    "    d = list(folds) \n",
    "    del d[valida]\n",
    "    dados = pd.concat(d)\n",
    "    # Separação entre variável resposta e variáveis explicativas\n",
    "    X = dados.drop('species',1)\n",
    "    y = pd.DataFrame(dados['species'])\n",
    "    # One hot encoding\n",
    "    X = pd.get_dummies(X)\n",
    "    # Modelo\n",
    "    adb = AdaBoostClassifier(learning_rate = 0.5, n_estimators = 100)\n",
    "    # Ajuste\n",
    "    adb = adb.fit(X,y.values.ravel())\n",
    "    # Validacao\n",
    "    dados_validacao = folds[valida]\n",
    "    X_valida = dados_validacao.drop('species',1)\n",
    "    X_valida = pd.get_dummies(X_valida)\n",
    "    y_valida = pd.DataFrame(dados_validacao['species'])\n",
    "    y_hat = adb.predict(X_valida)\n",
    "    # Acurácia\n",
    "    acuracia_adb_tunado.append(accuracy_score(y_valida, y_hat))\n",
    "    # Trocando validacao\n",
    "    valida = valida-1"
   ]
  },
  {
   "cell_type": "code",
   "execution_count": 40,
   "id": "f4771ddc",
   "metadata": {},
   "outputs": [
    {
     "name": "stdout",
     "output_type": "stream",
     "text": [
      "A acurácia média dos k-folds foi de : 0.9910\n"
     ]
    }
   ],
   "source": [
    "# Resultados\n",
    "acuracia_final_adb_tunado = sum(acuracia_adb_tunado)/len(folds)\n",
    "print('A acurácia média dos k-folds foi de : {0:0.4f}'. format(acuracia_final_adb_tunado))"
   ]
  },
  {
   "cell_type": "markdown",
   "id": "8111c3e9",
   "metadata": {},
   "source": [
    "Podemos perceber que após a tunagem dos hiperparâmetros o modelo obteve uma melhora expressiva nos resultados, indo de uma acurácia media de 0.83 para 0.97."
   ]
  }
 ],
 "metadata": {
  "kernelspec": {
   "display_name": "Python 3",
   "language": "python",
   "name": "python3"
  },
  "language_info": {
   "codemirror_mode": {
    "name": "ipython",
    "version": 3
   },
   "file_extension": ".py",
   "mimetype": "text/x-python",
   "name": "python",
   "nbconvert_exporter": "python",
   "pygments_lexer": "ipython3",
   "version": "3.7.1"
  }
 },
 "nbformat": 4,
 "nbformat_minor": 5
}
